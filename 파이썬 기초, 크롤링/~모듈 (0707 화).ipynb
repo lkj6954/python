{
 "cells": [
  {
   "cell_type": "code",
   "execution_count": 1,
   "metadata": {},
   "outputs": [
    {
     "name": "stdout",
     "output_type": "stream",
     "text": [
      "8\n"
     ]
    }
   ],
   "source": [
    "print(3+5)"
   ]
  },
  {
   "cell_type": "code",
   "execution_count": 2,
   "metadata": {},
   "outputs": [
    {
     "name": "stdout",
     "output_type": "stream",
     "text": [
      "10\n",
      "1\n",
      "9995\n"
     ]
    }
   ],
   "source": [
    "print(3+7)\n",
    "print(2-1)\n",
    "print(5*1999)"
   ]
  },
  {
   "cell_type": "code",
   "execution_count": 3,
   "metadata": {},
   "outputs": [
    {
     "name": "stdout",
     "output_type": "stream",
     "text": [
      "\n"
     ]
    }
   ],
   "source": [
    "no1 = input()"
   ]
  },
  {
   "cell_type": "code",
   "execution_count": 4,
   "metadata": {},
   "outputs": [
    {
     "name": "stdout",
     "output_type": "stream",
     "text": [
      "1\n",
      "2\n",
      "3\n",
      "4\n",
      "5\n",
      "6\n",
      "7\n",
      "8\n"
     ]
    }
   ],
   "source": [
    "for a in (1,2,3,4,5):\n",
    "    print(a)\n",
    "print(a+1)\n",
    "print(a+2)\n",
    "print(a+3)"
   ]
  },
  {
   "cell_type": "code",
   "execution_count": 5,
   "metadata": {},
   "outputs": [
    {
     "name": "stdout",
     "output_type": "stream",
     "text": [
      "a%b =  1\n"
     ]
    }
   ],
   "source": [
    "a = 10\n",
    "b = 3\n",
    "print('a%b = ', a%b)"
   ]
  },
  {
   "cell_type": "code",
   "execution_count": 6,
   "metadata": {},
   "outputs": [
    {
     "name": "stdout",
     "output_type": "stream",
     "text": [
      "모니터에\n",
      "튀긴 침이\n",
      "마르기도 전에\n"
     ]
    }
   ],
   "source": [
    "print(\"모니터에\")\n",
    "print(\"튀긴 침이\")\n",
    "str = '마르기도 전에'\n",
    "print(str)"
   ]
  },
  {
   "cell_type": "code",
   "execution_count": 7,
   "metadata": {},
   "outputs": [
    {
     "name": "stdout",
     "output_type": "stream",
     "text": [
      "오늘은 7월 5일 5일\n"
     ]
    }
   ],
   "source": [
    "day = 5\n",
    "print('오늘은 7월 %d일 %d일' %(day, day)) #콤마 주의"
   ]
  },
  {
   "cell_type": "code",
   "execution_count": 8,
   "metadata": {},
   "outputs": [
    {
     "name": "stdout",
     "output_type": "stream",
     "text": [
      "오늘 저녁을 입력하센 : \n"
     ]
    }
   ],
   "source": [
    "dinnerMenu = input('오늘 저녁을 입력하센 : ')"
   ]
  },
  {
   "cell_type": "code",
   "execution_count": 9,
   "metadata": {},
   "outputs": [
    {
     "name": "stdout",
     "output_type": "stream",
     "text": [
      "오늘 저녁 메뉴는 입니다.\n"
     ]
    }
   ],
   "source": [
    "print(\"오늘 저녁 메뉴는 %s입니다.\" %dinnerMenu)"
   ]
  },
  {
   "cell_type": "code",
   "execution_count": 10,
   "metadata": {},
   "outputs": [
    {
     "name": "stdout",
     "output_type": "stream",
     "text": [
      "1. 이름을 입력하세요 : \n",
      "2. 취미를 입력하세요 : \n",
      "\n",
      "님의 취미는 입니다.\n"
     ]
    }
   ],
   "source": [
    "name = input('1. 이름을 입력하세요 : ')\n",
    "hobby = input('2. 취미를 입력하세요 : ')\n",
    "print('\\n%s님의 취미는 %s입니다.' %(name, hobby))"
   ]
  },
  {
   "cell_type": "code",
   "execution_count": 11,
   "metadata": {},
   "outputs": [
    {
     "name": "stdout",
     "output_type": "stream",
     "text": [
      "\n",
      "1. 서울   2. 부산   3. 제주   4. 여수   5. 남해\n",
      "\n",
      "\n",
      "1. 위 지역 중 여행하고 싶은 지역번호를 입력하세요 : \n",
      "여행하실 총 인원 수를 입력하세요 : \n",
      "\n",
      "\n",
      "여행하실 지역의 번호는 이고 총 인원수는 명입니다.\n"
     ]
    }
   ],
   "source": [
    "print('''\n",
    "1. 서울   2. 부산   3. 제주   4. 여수   5. 남해\\n\n",
    "''')\n",
    "areaNo = input('1. 위 지역 중 여행하고 싶은 지역번호를 입력하세요 : ')\n",
    "personNum = input('여행하실 총 인원 수를 입력하세요 : ')\n",
    "print('\\n\\n여행하실 지역의 번호는 %s이고 총 인원수는 %s명입니다.' %(areaNo, personNum))"
   ]
  },
  {
   "cell_type": "code",
   "execution_count": 12,
   "metadata": {},
   "outputs": [
    {
     "name": "stdout",
     "output_type": "stream",
     "text": [
      "첫번째 슷자 입력 : \n",
      "두번쨰 슷자 입력 : \n",
      "와 의 합은 입니다.\n",
      "\n",
      "첫번째 슷자 입력 : \n"
     ]
    },
    {
     "ename": "ValueError",
     "evalue": "invalid literal for int() with base 10: ''",
     "output_type": "error",
     "traceback": [
      "\u001b[1;31m---------------------------------------------------------------------------\u001b[0m",
      "\u001b[1;31mValueError\u001b[0m                                Traceback (most recent call last)",
      "\u001b[1;32m<ipython-input-12-489468cd4932>\u001b[0m in \u001b[0;36m<module>\u001b[1;34m\u001b[0m\n\u001b[0;32m      5\u001b[0m \u001b[0mprint\u001b[0m\u001b[1;33m(\u001b[0m\u001b[1;34m'%s와 %s의 합은 %s입니다.\\n'\u001b[0m \u001b[1;33m%\u001b[0m\u001b[1;33m(\u001b[0m\u001b[0mnum1\u001b[0m\u001b[1;33m,\u001b[0m \u001b[0mnum2\u001b[0m\u001b[1;33m,\u001b[0m \u001b[0mnum1\u001b[0m\u001b[1;33m+\u001b[0m\u001b[0mnum2\u001b[0m\u001b[1;33m)\u001b[0m\u001b[1;33m)\u001b[0m\u001b[1;33m\u001b[0m\u001b[0m\n\u001b[0;32m      6\u001b[0m \u001b[1;33m\u001b[0m\u001b[0m\n\u001b[1;32m----> 7\u001b[1;33m \u001b[0mnum1\u001b[0m \u001b[1;33m=\u001b[0m \u001b[0mint\u001b[0m\u001b[1;33m(\u001b[0m\u001b[0minput\u001b[0m\u001b[1;33m(\u001b[0m\u001b[1;34m'첫번째 슷자 입력 : '\u001b[0m\u001b[1;33m)\u001b[0m\u001b[1;33m)\u001b[0m\u001b[1;33m\u001b[0m\u001b[0m\n\u001b[0m\u001b[0;32m      8\u001b[0m \u001b[0mnum2\u001b[0m \u001b[1;33m=\u001b[0m \u001b[0mint\u001b[0m\u001b[1;33m(\u001b[0m\u001b[0minput\u001b[0m\u001b[1;33m(\u001b[0m\u001b[1;34m'두번쨰 슷자 입력 : '\u001b[0m\u001b[1;33m)\u001b[0m\u001b[1;33m)\u001b[0m\u001b[1;33m\u001b[0m\u001b[0m\n\u001b[0;32m      9\u001b[0m \u001b[0mprint\u001b[0m\u001b[1;33m(\u001b[0m\u001b[1;34m'%s와 %s의 합은 %s입니다.'\u001b[0m \u001b[1;33m%\u001b[0m\u001b[1;33m(\u001b[0m\u001b[0mnum1\u001b[0m\u001b[1;33m,\u001b[0m \u001b[0mnum2\u001b[0m\u001b[1;33m,\u001b[0m \u001b[0mnum1\u001b[0m\u001b[1;33m+\u001b[0m\u001b[0mnum2\u001b[0m\u001b[1;33m)\u001b[0m\u001b[1;33m)\u001b[0m\u001b[1;33m\u001b[0m\u001b[0m\n",
      "\u001b[1;31mValueError\u001b[0m: invalid literal for int() with base 10: ''"
     ]
    }
   ],
   "source": [
    "#차이 확인\n",
    "\n",
    "num1 = input('첫번째 슷자 입력 : ')\n",
    "num2 = input('두번쨰 슷자 입력 : ')\n",
    "print('%s와 %s의 합은 %s입니다.\\n' %(num1, num2, num1+num2))\n",
    "\n",
    "num1 = int(input('첫번째 슷자 입력 : '))\n",
    "num2 = int(input('두번쨰 슷자 입력 : '))\n",
    "print('%s와 %s의 합은 %s입니다.' %(num1, num2, num1+num2))"
   ]
  },
  {
   "cell_type": "code",
   "execution_count": 13,
   "metadata": {},
   "outputs": [
    {
     "name": "stdout",
     "output_type": "stream",
     "text": [
      "첫번째 슷자 입력 : \n"
     ]
    },
    {
     "ename": "ValueError",
     "evalue": "invalid literal for int() with base 10: ''",
     "output_type": "error",
     "traceback": [
      "\u001b[1;31m---------------------------------------------------------------------------\u001b[0m",
      "\u001b[1;31mValueError\u001b[0m                                Traceback (most recent call last)",
      "\u001b[1;32m<ipython-input-13-201b179230c5>\u001b[0m in \u001b[0;36m<module>\u001b[1;34m\u001b[0m\n\u001b[0;32m      1\u001b[0m \u001b[1;31m#input()쓰면서 int형으로 형변환\u001b[0m\u001b[1;33m\u001b[0m\u001b[1;33m\u001b[0m\u001b[0m\n\u001b[0;32m      2\u001b[0m \u001b[1;33m\u001b[0m\u001b[0m\n\u001b[1;32m----> 3\u001b[1;33m \u001b[0mnum1\u001b[0m \u001b[1;33m=\u001b[0m \u001b[0mint\u001b[0m\u001b[1;33m(\u001b[0m\u001b[0minput\u001b[0m\u001b[1;33m(\u001b[0m\u001b[1;34m'첫번째 슷자 입력 : '\u001b[0m\u001b[1;33m)\u001b[0m\u001b[1;33m)\u001b[0m\u001b[1;33m\u001b[0m\u001b[0m\n\u001b[0m\u001b[0;32m      4\u001b[0m \u001b[0mnum2\u001b[0m \u001b[1;33m=\u001b[0m \u001b[0mint\u001b[0m\u001b[1;33m(\u001b[0m\u001b[0minput\u001b[0m\u001b[1;33m(\u001b[0m\u001b[1;34m'두번쨰 슷자 입력 : '\u001b[0m\u001b[1;33m)\u001b[0m\u001b[1;33m)\u001b[0m\u001b[1;33m\u001b[0m\u001b[0m\n\u001b[0;32m      5\u001b[0m \u001b[0mprint\u001b[0m\u001b[1;33m(\u001b[0m\u001b[1;34m'%s와 %s의 합은 %s입니다.'\u001b[0m \u001b[1;33m%\u001b[0m\u001b[1;33m(\u001b[0m\u001b[0mnum1\u001b[0m\u001b[1;33m,\u001b[0m \u001b[0mnum2\u001b[0m\u001b[1;33m,\u001b[0m \u001b[0mnum1\u001b[0m\u001b[1;33m+\u001b[0m\u001b[0mnum2\u001b[0m\u001b[1;33m)\u001b[0m\u001b[1;33m)\u001b[0m\u001b[1;33m\u001b[0m\u001b[0m\n",
      "\u001b[1;31mValueError\u001b[0m: invalid literal for int() with base 10: ''"
     ]
    }
   ],
   "source": [
    "#input()쓰면서 int형으로 형변환\n",
    "\n",
    "num1 = int(input('첫번째 슷자 입력 : '))\n",
    "num2 = int(input('두번쨰 슷자 입력 : '))\n",
    "print('%s와 %s의 합은 %s입니다.' %(num1, num2, num1+num2))"
   ]
  },
  {
   "cell_type": "code",
   "execution_count": 14,
   "metadata": {},
   "outputs": [
    {
     "name": "stdout",
     "output_type": "stream",
     "text": [
      "3.141592를 반올림하면 3\n",
      "소수 첫째자리까지 반올림\n"
     ]
    }
   ],
   "source": [
    "# round()\n",
    "\n",
    "float1 = 3.141592\n",
    "print('%s를 반올림하면 %s' %(float1, round(float1)))\n",
    "print('소수 첫째자리까지 반올림')"
   ]
  },
  {
   "cell_type": "markdown",
   "metadata": {},
   "source": [
    "# 특정 문장이 나오고 바로 뒤에 변수를 출력시키고 싶을 때 ,(콤마) 사용"
   ]
  },
  {
   "cell_type": "code",
   "execution_count": 15,
   "metadata": {},
   "outputs": [
    {
     "name": "stdout",
     "output_type": "stream",
     "text": [
      "바로 뒤에 변수가 온다 :  100\n"
     ]
    }
   ],
   "source": [
    "var = 100\n",
    "print('바로 뒤에 변수가 온다 : ',var)"
   ]
  },
  {
   "cell_type": "markdown",
   "metadata": {},
   "source": [
    "## n제곱"
   ]
  },
  {
   "cell_type": "code",
   "execution_count": 16,
   "metadata": {},
   "outputs": [
    {
     "name": "stdout",
     "output_type": "stream",
     "text": [
      "16\n"
     ]
    }
   ],
   "source": [
    "print(2**4)"
   ]
  },
  {
   "cell_type": "markdown",
   "metadata": {},
   "source": [
    "## 몫만 출력"
   ]
  },
  {
   "cell_type": "code",
   "execution_count": 17,
   "metadata": {},
   "outputs": [
    {
     "name": "stdout",
     "output_type": "stream",
     "text": [
      "5\n"
     ]
    }
   ],
   "source": [
    "print(10//2)"
   ]
  },
  {
   "cell_type": "markdown",
   "metadata": {},
   "source": [
    "## 소수점 함수\n",
    "### trunc는 '버림', ceil은 '올림', floor는 '버림'이 아닌 가장 낮은 정수를 찾음."
   ]
  },
  {
   "cell_type": "code",
   "execution_count": 18,
   "metadata": {},
   "outputs": [
    {
     "name": "stdout",
     "output_type": "stream",
     "text": [
      "round() 기본값 사용 : 3\n",
      "round() 소수점 둘째 자리까지 반올림 : 3.14\n",
      "trunc함수 기본값 사용 : -3\n",
      "floor함수 기본값 사용 : -4\n",
      "ceil함수 기본값 사용 : 4\n"
     ]
    }
   ],
   "source": [
    "print(\"round() 기본값 사용 : %s\" %round(3.14152))\n",
    "print(\"round() 소수점 둘째 자리까지 반올림 : %s\" %round(3.14152, 2))\n",
    "import math\n",
    "print(\"trunc함수 기본값 사용 : %s\" %math.trunc(-3.14152))\n",
    "print(\"floor함수 기본값 사용 : %s\" %math.floor(-3.14152))\n",
    "print(\"ceil함수 기본값 사용 : %s\" %math.ceil(3.14152))"
   ]
  },
  {
   "cell_type": "markdown",
   "metadata": {},
   "source": [
    "## 인덱싱, 슬라이싱"
   ]
  },
  {
   "cell_type": "code",
   "execution_count": 24,
   "metadata": {},
   "outputs": [
    {
     "name": "stdout",
     "output_type": "stream",
     "text": [
      "이건 인덱싱\n",
      "파\n",
      "이\n",
      "\n",
      "\n",
      "이건 슬라이싱\n",
      "파이썬\n",
      "쉽누\n"
     ]
    }
   ],
   "source": [
    "str1 = \"파이썬 쉽누\"\n",
    "print(\"이건 인덱싱\")\n",
    "print(str1[0])\n",
    "print(str1[1])\n",
    "print('\\n')\n",
    "\n",
    "print(\"이건 슬라이싱\")\n",
    "print(str1[0:3])\n",
    "print(str1[-2:])\n"
   ]
  },
  {
   "cell_type": "markdown",
   "metadata": {},
   "source": [
    "## lower, upper"
   ]
  },
  {
   "cell_type": "code",
   "execution_count": 25,
   "metadata": {},
   "outputs": [
    {
     "name": "stdout",
     "output_type": "stream",
     "text": [
      "이건 lower()\n",
      "python\n",
      "이건 upper()\n",
      "PYTHON\n"
     ]
    }
   ],
   "source": [
    "str2 = \"PyTHon\"\n",
    "print(\"이건 lower()\")\n",
    "print(str2.lower())\n",
    "print(\"이건 upper()\")\n",
    "print(str2.upper())"
   ]
  },
  {
   "cell_type": "markdown",
   "metadata": {},
   "source": [
    "## lstrip, rstrip, strip (공백 지우기)"
   ]
  },
  {
   "cell_type": "code",
   "execution_count": 26,
   "metadata": {},
   "outputs": [
    {
     "name": "stdout",
     "output_type": "stream",
     "text": [
      "<-  이쪽 끝에 공백 있었어요.\n",
      "오른쪽 끝에 공백 있었어요 ->\n",
      "양쪽 끝에 공백 있었어연\n"
     ]
    }
   ],
   "source": [
    "str3 = \"   <-  이쪽 끝에 공백 있었어요.\"\n",
    "str4 = \"오른쪽 끝에 공백 있었어요 ->    \"\n",
    "str5 = \"   양쪽 끝에 공백 있었어연   \"\n",
    "print(str3.lstrip())\n",
    "print(str4.rstrip())\n",
    "print(str5.strip())"
   ]
  },
  {
   "cell_type": "markdown",
   "metadata": {},
   "source": [
    "## replace, split, len, 문자열로 연산하기"
   ]
  },
  {
   "cell_type": "markdown",
   "metadata": {},
   "source": [
    "### 함수 연속 사용 가능. 가장 안쪽부터 실행됨. ex) str1.strip().replace(\"새우깡\", \"감자깡\")"
   ]
  },
  {
   "cell_type": "code",
   "execution_count": 6,
   "metadata": {},
   "outputs": [
    {
     "name": "stdout",
     "output_type": "stream",
     "text": [
      "새우도 해산물인가요?\n",
      "<class 'str'>\n",
      "['02', '1234', '5678']\n",
      "['02', '1234-5678']\n",
      "['02', '1234', '5678']\n",
      "10\n",
      "3\n",
      "********************************************************************************\n",
      "구분선\n",
      "********************************************************************************\n"
     ]
    }
   ],
   "source": [
    "str6 = \"새우깡도 해산물인가요?\"\n",
    "print(str6.replace(\"새우깡\", \"새우\"))\n",
    "\n",
    "tel = '02-1234-5678'\n",
    "print(type(tel))\n",
    "print(tel.split('-'))\n",
    "print(tel.split('-', 1))\n",
    "print(tel.split('-', 2))\n",
    "\n",
    "str1 = '파이썬 완전 좋아요'\n",
    "str2 = ['파이썬', '웹크롤러', '가치랩스']\n",
    "\n",
    "print(len(str1))\n",
    "print(len(str2))\n",
    "\n",
    "print(\"*\" *80)\n",
    "print(\"구분선\")\n",
    "print(\"*\" *80)"
   ]
  },
  {
   "cell_type": "markdown",
   "metadata": {},
   "source": [
    "# 리스트"
   ]
  },
  {
   "cell_type": "markdown",
   "metadata": {},
   "source": [
    "## append, insert 함수"
   ]
  },
  {
   "cell_type": "code",
   "execution_count": 35,
   "metadata": {},
   "outputs": [
    {
     "name": "stdout",
     "output_type": "stream",
     "text": [
      "['첫째', '두번째 자리 스틸', '둘째', '셋째', '넷째']\n"
     ]
    }
   ],
   "source": [
    "list2 = ['첫째', '둘째', '셋째']\n",
    "list2.append(\"넷째\")\n",
    "list2.insert(1, \"두번째 자리 스틸\")\n",
    "print(list2)"
   ]
  },
  {
   "cell_type": "markdown",
   "metadata": {},
   "source": [
    "## del, remove 함수"
   ]
  },
  {
   "cell_type": "code",
   "execution_count": 84,
   "metadata": {},
   "outputs": [
    {
     "name": "stdout",
     "output_type": "stream",
     "text": [
      "삭제 전 목록 :  ['첫째', '넷째']\n",
      "삭제 후 목록 :  ['첫째']\n",
      "[]\n"
     ]
    }
   ],
   "source": [
    "print(\"삭제 전 목록 : \", list2)\n",
    "del list2[1]\n",
    "print(\"삭제 후 목록 : \", list2)\n",
    "list2.remove(\"첫째\")\n",
    "print(list2)"
   ]
  },
  {
   "cell_type": "markdown",
   "metadata": {},
   "source": [
    "## sort, reverse 함수"
   ]
  },
  {
   "cell_type": "code",
   "execution_count": 87,
   "metadata": {},
   "outputs": [
    {
     "name": "stdout",
     "output_type": "stream",
     "text": [
      "오름차순 정렬 후 :  [1, 2, 3, 5, 8]\n",
      "내림차순 정렬 후 :  [8, 5, 3, 2, 1]\n"
     ]
    }
   ],
   "source": [
    "list3 = [3,1,5,8,2]\n",
    "list3.sort()\n",
    "print(\"오름차순 정렬 후 : \", list3)\n",
    "list3.reverse()\n",
    "print(\"내림차순 정렬 후 : \", list3)"
   ]
  },
  {
   "cell_type": "markdown",
   "metadata": {},
   "source": [
    "## 리스트 연습문제"
   ]
  },
  {
   "cell_type": "code",
   "execution_count": 94,
   "metadata": {},
   "outputs": [
    {
     "name": "stdout",
     "output_type": "stream",
     "text": [
      "목록에 추가할 첫번째 학생의 이름을 입력하세요 : 전우치\n",
      "전우치 학생의 신청이 완료되었습니다.\n",
      "\n",
      "목록에 추가할 두번째 학생의 이름을 입력하세요 : 유관순\n",
      "유관순 학생의 신청이 완료되었습니다.\n",
      "\n",
      "현재 이 과목의 최종 수강 신청자는 ['홍길동', '일지매', '전우치', '유관순']입니다.\n"
     ]
    }
   ],
   "source": [
    "# 1\n",
    "sugangList = ['홍길동', '일지매']\n",
    "addStu1 = input(\"목록에 추가할 첫번째 학생의 이름을 입력하세요 : \")\n",
    "print(\"%s 학생의 신청이 완료되었습니다.\\n\" % addStu1)\n",
    "\n",
    "addStu2 = input(\"목록에 추가할 두번째 학생의 이름을 입력하세요 : \")\n",
    "print(\"%s 학생의 신청이 완료되었습니다.\\n\" % addStu2)\n",
    "\n",
    "sugangList.append(addStu1)\n",
    "sugangList.append(addStu2)\n",
    "print(\"현재 이 과목의 최종 수강 신청자는 %s입니다.\" % sugangList)"
   ]
  },
  {
   "cell_type": "code",
   "execution_count": 109,
   "metadata": {},
   "outputs": [
    {
     "name": "stdout",
     "output_type": "stream",
     "text": [
      "현재 수강 신청자는 ['홍길동', '일지매', '전우치', '유관순']입니다.\n",
      "\n",
      "수강 철회하는 학생의 이름을 쓰세요 : 전우치\n",
      "\n",
      "전우치 학생의 수강신청 철회가 완료되었습니다.\n",
      "\n",
      "['유관순', '일지매', '홍길동']\n"
     ]
    }
   ],
   "source": [
    "# 2\n",
    "sugangList = ['홍길동', '일지매', '전우치', '유관순']\n",
    "print(\"현재 수강 신청자는 %s입니다.\\n\" % sugangList)\n",
    "\n",
    "delStu =  input(\"수강 철회하는 학생의 이름을 쓰세요 : \")\n",
    "isInList = 0\n",
    "\n",
    "for i in sugangList : \n",
    "    if delStu == i :\n",
    "        isInList += 1\n",
    "\n",
    "if isInList == 0 :\n",
    "    print(\"\\n리스트에 포함되어 있는 학생명을 입력하세요.\")\n",
    "else :\n",
    "    sugangList.remove(delStu)\n",
    "    print(\"\\n%s 학생의 수강신청 철회가 완료되었습니다.\\n\" % delStu)\n",
    "    sugangList.sort()\n",
    "    print(sugangList)"
   ]
  },
  {
   "cell_type": "code",
   "execution_count": 118,
   "metadata": {},
   "outputs": [
    {
     "name": "stdout",
     "output_type": "stream",
     "text": [
      "현재 이 과목의 최종 수강 신청자는 홍길동, 일지매, 유관순 입니다.\n",
      "\n",
      "변경 전 이름을 입력하세요 : 홍길동\n",
      "변경 후 이름을 입력하세요 : 이경준\n",
      "요청하신대로 홍길동를(을) 이경준(으)로 변경하였습니다.\n",
      " \n",
      "현재 이 과목의 최종 수강 신청자는 이경준, 일지매, 유관순 입니다.\n"
     ]
    }
   ],
   "source": [
    "# 3\n",
    "\n",
    "stu = '홍길동, 일지매, 유관순'\n",
    "print(\"현재 이 과목의 최종 수강 신청자는 %s 입니다.\\n\" % stu)\n",
    "\n",
    "beforeName = input(\"변경 전 이름을 입력하세요 : \")\n",
    "afterName = input(\"변경 후 이름을 입력하세요 : \")\n",
    "\n",
    "# 문자열 탐색 후 예외처리 기능 추가해야 함\n",
    "\n",
    "stu = stu.replace(beforeName, afterName)\n",
    "\n",
    "print(\"요청하신대로 %s를(을) %s(으)로 변경하였습니다.\\n \" %(beforeName, afterName))\n",
    "print(\"현재 이 과목의 최종 수강 신청자는 %s 입니다.\" % stu)"
   ]
  },
  {
   "cell_type": "markdown",
   "metadata": {},
   "source": [
    "# 조건문과 반복문"
   ]
  },
  {
   "cell_type": "markdown",
   "metadata": {},
   "source": [
    "## if문(if, elif, else)\n",
    "### 파이썬에서는 if문 쓸 때 : (콜론) 들어가고, 들여쓰기 무조건 해야 한다\n",
    "### and, or 등 쓸 때 변수명을 계속 입력해야 함"
   ]
  },
  {
   "cell_type": "markdown",
   "metadata": {},
   "source": [
    "## if 연습문제"
   ]
  },
  {
   "cell_type": "code",
   "execution_count": 119,
   "metadata": {},
   "outputs": [
    {
     "name": "stdout",
     "output_type": "stream",
     "text": [
      "숫자 입력 :5\n",
      "0\n"
     ]
    }
   ],
   "source": [
    "# 1\n",
    "\n",
    "no1 = int(input(\"숫자 입력 :\"))\n",
    "if no1 % 3 == 0 :\n",
    "    print(no1**2)\n",
    "else :\n",
    "    print(0)"
   ]
  },
  {
   "cell_type": "code",
   "execution_count": 120,
   "metadata": {},
   "outputs": [
    {
     "name": "stdout",
     "output_type": "stream",
     "text": [
      "사과, 감, 귤 중에 어떤 과일 좋아하세요? : 사과\n",
      "Good~\n"
     ]
    }
   ],
   "source": [
    "# 2\n",
    "fruits = input(\"사과, 감, 귤 중에 어떤 과일 좋아하세요? : \")\n",
    "if fruits == \"사과\" :\n",
    "    print(\"Good~\")\n",
    "elif fruits == \"감\" :\n",
    "    print(\"Very Good~\")\n",
    "elif fruits == \"귤\" :\n",
    "    print(\"So So...\")\n",
    "else :\n",
    "    print(\"사과나 감, 귤 중에서 하나를 입력하세요~~\")"
   ]
  },
  {
   "cell_type": "code",
   "execution_count": 121,
   "metadata": {},
   "outputs": [
    {
     "name": "stdout",
     "output_type": "stream",
     "text": [
      "사과, 감, 귤, 복숭아 중에 어떤 과일 좋아하세요? : 복숭아\n",
      "Good\n"
     ]
    }
   ],
   "source": [
    "# 3\n",
    "fruits = input(\"사과, 감, 귤, 복숭아 중에 어떤 과일 좋아하세요? : \")\n",
    "if fruits == \"사과\" or fruits == \"감\" :\n",
    "    print(\"Very Good\")\n",
    "elif fruits == \"귤\" or fruits == \"복숭아\" :\n",
    "    print(\"Good\")\n",
    "else :\n",
    "    print(\"사과나 감, 귤, 복숭아 중에서 하나를 입력하세요~~\")"
   ]
  },
  {
   "cell_type": "code",
   "execution_count": 123,
   "metadata": {},
   "outputs": [
    {
     "name": "stdout",
     "output_type": "stream",
     "text": [
      "1. 짜장면 - 5,000원 \t 2. 짬뽕 - 6,000원 \n",
      "3. 군만두 - 8,000원 \t 4. 탕수육 - 10,000원\n",
      "\n",
      "위 메뉴 중 주문할 메뉴의 번호를 쓰세요 : 4\n",
      "위 메뉴의 주문 수량을 쓰세요 : 3\n",
      "주문하신 메뉴는 4이고 주문 수량은 3그릇이며 주문금액은 30000원입니다.\n"
     ]
    }
   ],
   "source": [
    "# 4\n",
    "print(\"1. 짜장면 - 5,000원 \\t 2. 짬뽕 - 6,000원 \\n3. 군만두 - 8,000원 \\t 4. 탕수육 - 10,000원\\n\")\n",
    "menuNum = int(input(\"위 메뉴 중 주문할 메뉴의 번호를 쓰세요 : \"))\n",
    "if menuNum == 1 :\n",
    "    menuPrice = int(5000)\n",
    "elif menuNum == 2 :\n",
    "    menuPrice = int(6000)\n",
    "elif menuNum == 3 :\n",
    "    menuPrice = int(8000)\n",
    "elif menuNum == 4 :\n",
    "    menuPrice = int(10000)\n",
    "else :\n",
    "    print(\"1에서 4 사이의 정수를 입력하세요\")\n",
    "\n",
    "menuCount = int(input(\"위 메뉴의 주문 수량을 쓰세요 : \"))\n",
    "\n",
    "print(\"주문하신 메뉴는 %s이고 주문 수량은 %s그릇이며 주문금액은 %s원입니다.\" %(menuNum, menuCount, menuPrice * menuCount))"
   ]
  },
  {
   "cell_type": "markdown",
   "metadata": {},
   "source": [
    "## for 연습문제"
   ]
  },
  {
   "cell_type": "code",
   "execution_count": 124,
   "metadata": {},
   "outputs": [
    {
     "name": "stdout",
     "output_type": "stream",
     "text": [
      "출력을 원하시는 단을 입력하세요 : 8\n",
      "8 X 1 = 8\n",
      "8 X 2 = 16\n",
      "8 X 3 = 24\n",
      "8 X 4 = 32\n",
      "8 X 5 = 40\n",
      "8 X 6 = 48\n",
      "8 X 7 = 56\n",
      "8 X 8 = 64\n",
      "8 X 9 = 72\n"
     ]
    }
   ],
   "source": [
    "# 1. 숫자 1개를 입력받아 해당 숫자의 단에 해당되는 구구단 출력\n",
    "\n",
    "num = int(input(\"출력을 원하시는 단을 입력하세요 : \"))\n",
    "for i in range(1,10) :\n",
    "    print(\"%s X %s = %s\" %(num, i, num*i))"
   ]
  },
  {
   "cell_type": "code",
   "execution_count": 127,
   "metadata": {},
   "outputs": [
    {
     "name": "stdout",
     "output_type": "stream",
     "text": [
      "숫자를 입력하세요 : 31\n",
      "짝수 또는 홀수를 입력하세요 : 짝수\n",
      "2\n",
      "4\n",
      "6\n",
      "8\n",
      "10\n",
      "12\n",
      "14\n",
      "16\n",
      "18\n",
      "20\n",
      "22\n",
      "24\n",
      "26\n",
      "28\n",
      "30\n"
     ]
    }
   ],
   "source": [
    "# 2\n",
    "num = int(input(\"숫자를 입력하세요 : \"))\n",
    "check = input(\"짝수 또는 홀수를 입력하세요 : \")\n",
    "if check == \"짝수\" :\n",
    "    for i in range(1, num+1) :\n",
    "        if i % 2 == 0 :\n",
    "            print(i)\n",
    "elif check == \"홀수\" :\n",
    "    for i in range(1, num+1) :\n",
    "        if i % 2 == 1 :\n",
    "            print(i)\n",
    "else :\n",
    "    print(\"짝수, 홀수를 제대로 입력하세요\")"
   ]
  },
  {
   "cell_type": "code",
   "execution_count": 135,
   "metadata": {},
   "outputs": [
    {
     "name": "stdout",
     "output_type": "stream",
     "text": [
      "현재 이 과목의 최종 수강 신청자는 ['홍길동', '일지매', '유관순']입니다. \n",
      "변경 전 이름을 입력하세요 : 유관순\n",
      "변경 후 이름을 입력하세요 : 이경준\n",
      "['홍길동', '일지매', '이경준']\n"
     ]
    }
   ],
   "source": [
    "# 3\n",
    "stu2 = ['홍길동', '일지매', '유관순']\n",
    "print(\"현재 이 과목의 최종 수강 신청자는 %s입니다. \" % stu2)\n",
    "\n",
    "beforeName = input(\"변경 전 이름을 입력하세요 : \")\n",
    "afterName = input(\"변경 후 이름을 입력하세요 : \")\n",
    "\n",
    "listNum = 0\n",
    "for i in stu2 :\n",
    "    if beforeName == i : \n",
    "        del stu2[listNum]\n",
    "        stu2.insert(listNum, afterName)\n",
    "    \n",
    "    listNum += 1\n",
    "\n",
    "print(stu2)"
   ]
  },
  {
   "cell_type": "code",
   "execution_count": 136,
   "metadata": {
    "scrolled": true
   },
   "outputs": [
    {
     "name": "stdout",
     "output_type": "stream",
     "text": [
      "1 페이지의 1 번 글입니다 ^^\n",
      "1 페이지의 2 번 글입니다 ^^\n",
      "1 페이지의 3 번 글입니다 ^^\n",
      "1 페이지의 4 번 글입니다 ^^\n",
      "1 페이지의 5 번 글입니다 ^^\n",
      "\n",
      "\n",
      "2 페이지의 1 번 글입니다 ^^\n",
      "2 페이지의 2 번 글입니다 ^^\n",
      "2 페이지의 3 번 글입니다 ^^\n",
      "2 페이지의 4 번 글입니다 ^^\n",
      "2 페이지의 5 번 글입니다 ^^\n",
      "\n",
      "\n",
      "3 페이지의 1 번 글입니다 ^^\n",
      "3 페이지의 2 번 글입니다 ^^\n",
      "3 페이지의 3 번 글입니다 ^^\n",
      "3 페이지의 4 번 글입니다 ^^\n",
      "3 페이지의 5 번 글입니다 ^^\n",
      "\n",
      "\n"
     ]
    }
   ],
   "source": [
    "# 4\n",
    "page_no = [1,2,3]\n",
    "test_no = [1,2,3,4,5]\n",
    "\n",
    "for i in page_no :\n",
    "    for j in test_no :\n",
    "        print(\"%s 페이지의 %s 번 글입니다 ^^\" %(i, j))\n",
    "    print(\"\\n\")"
   ]
  },
  {
   "cell_type": "code",
   "execution_count": 137,
   "metadata": {},
   "outputs": [
    {
     "name": "stdout",
     "output_type": "stream",
     "text": [
      "1반 : 홍길동\n",
      "1반 : 일지매\n",
      "1반 : 전우치\n",
      "====================\n",
      "2반 : 유관순\n",
      "2반 : 신사임당\n",
      "2반 : 어우동\n",
      "====================\n",
      "3반 : 강감찬\n",
      "3반 : 광개토대왕\n",
      "3반 : 김구\n"
     ]
    }
   ],
   "source": [
    "# 5\n",
    "class_name = ['1반', '2반', '3반']\n",
    "name1 = ['홍길동', '일지매', '전우치']\n",
    "name2 = ['유관순', '신사임당', '어우동']\n",
    "name3 = ['강감찬', '광개토대왕', '김구']\n",
    "\n",
    "for i in class_name :\n",
    "    if i==\"1반\" :\n",
    "        for name in name1 :\n",
    "            print(\"%s : %s\" %(i, name))\n",
    "        print(\"=\" *20)\n",
    "    elif i==\"2반\" :\n",
    "        for name in name2 :\n",
    "            print(\"%s : %s\" %(i, name))\n",
    "        print(\"=\" *20)\n",
    "    elif i==\"3반\" :\n",
    "        for name in name3 :\n",
    "            print(\"%s : %s\" %(i, name))"
   ]
  },
  {
   "cell_type": "markdown",
   "metadata": {},
   "source": [
    "## break 문과 continue 문"
   ]
  },
  {
   "cell_type": "code",
   "execution_count": 65,
   "metadata": {},
   "outputs": [
    {
     "name": "stdout",
     "output_type": "stream",
     "text": [
      "새우깡 존맛탱\n",
      "감자깡 존맛탱\n",
      "맛동산 존맛탱\n",
      "짱구 존맛탱\n"
     ]
    }
   ],
   "source": [
    "# break\n",
    "\n",
    "snack = [\"새우깡\", \"감자깡\", \"고구마깡\", \"맛동산\", \"짱구\"]\n",
    "for i in snack : \n",
    "    if i == \"고구마깡\" : \n",
    "        break\n",
    "    print(\"%s 존맛탱\" % i)\n",
    "    \n",
    "\n",
    "# continue\n",
    "\n",
    "snack = [\"새우깡\", \"감자깡\", \"고구마깡\", \"맛동산\", \"짱구\"]\n",
    "for i in snack : \n",
    "    if i == \"고구마깡\" : \n",
    "        continue\n",
    "    print(\"%s 존맛탱\" % i)"
   ]
  },
  {
   "cell_type": "markdown",
   "metadata": {},
   "source": [
    "## 반복문 연습문제(56p)"
   ]
  },
  {
   "cell_type": "code",
   "execution_count": 146,
   "metadata": {},
   "outputs": [
    {
     "name": "stdout",
     "output_type": "stream",
     "text": [
      "\n",
      "1. 짜장면 - 5,000원 \t 2. 짬뽕 - 6,000원 \n",
      "3. 군만두 - 8,000원 \t 4. 탕수육 - 10,000원\n",
      "\n",
      "위 메뉴 중 주문할 메뉴의 번호를 쓰세요 : 1\n",
      "위 메뉴의 주문 수량을 쓰세요 : 4\n",
      "\n",
      "주문하신 메뉴는 짜장면이고 주문 수량은 4그릇이며 주문금액은 20000원 입니다.\n",
      "추가 주문을 하시겠습니까? (Y / N) : y\n",
      "\n",
      "1. 짜장면 - 5,000원 \t 2. 짬뽕 - 6,000원 \n",
      "3. 군만두 - 8,000원 \t 4. 탕수육 - 10,000원\n",
      "\n",
      "위 메뉴 중 주문할 메뉴의 번호를 쓰세요 : 2\n",
      "위 메뉴의 주문 수량을 쓰세요 : 3\n",
      "\n",
      "주문하신 메뉴는 짬뽕이고 주문 수량은 3그릇이며 주문금액은 18000원 입니다.\n",
      "추가 주문을 하시겠습니까? (Y / N) : Y\n",
      "\n",
      "1. 짜장면 - 5,000원 \t 2. 짬뽕 - 6,000원 \n",
      "3. 군만두 - 8,000원 \t 4. 탕수육 - 10,000원\n",
      "\n",
      "위 메뉴 중 주문할 메뉴의 번호를 쓰세요 : 4\n",
      "위 메뉴의 주문 수량을 쓰세요 : 3\n",
      "\n",
      "주문하신 메뉴는 탕수육이고 주문 수량은 3그릇이며 주문금액은 30000원 입니다.\n",
      "추가 주문을 하시겠습니까? (Y / N) : n\n",
      "주문을 종료합니다\n"
     ]
    }
   ],
   "source": [
    "# 1\n",
    "\n",
    "isAddOrder = 1\n",
    "while isAddOrder == 1 :\n",
    "    print(\"\\n1. 짜장면 - 5,000원 \\t 2. 짬뽕 - 6,000원 \\n3. 군만두 - 8,000원 \\t 4. 탕수육 - 10,000원\\n\")\n",
    "    menuNum = int(input(\"위 메뉴 중 주문할 메뉴의 번호를 쓰세요 : \"))\n",
    "    if menuNum == 1 :\n",
    "        menuPrice = int(5000)\n",
    "        menuName = \"짜장면\"\n",
    "    elif menuNum == 2 :\n",
    "        menuPrice = int(6000)\n",
    "        menuName = \"짬뽕\"\n",
    "    elif menuNum == 3 :\n",
    "        menuName = \"군만두\"\n",
    "        menuPrice = int(8000)\n",
    "    elif menuNum == 4 :\n",
    "        menuPrice = int(10000)\n",
    "        menuName = \"탕수육\"\n",
    "    else :\n",
    "        print(\"1에서 4 사이의 정수를 입력하세요\")\n",
    "\n",
    "    menuCount = int(input(\"위 메뉴의 주문 수량을 쓰세요 : \"))\n",
    "\n",
    "    print(\"\\n주문하신 메뉴는 %s이고 주문 수량은 %s그릇이며 주문금액은 %s원 입니다.\" %(menuName, menuCount, menuPrice * menuCount))\n",
    "\n",
    "    addOrder = input(\"추가 주문을 하시겠습니까? (Y / N) : \")\n",
    "    if addOrder == \"Y\" or addOrder == \"y\" : \n",
    "        continue\n",
    "    else :\n",
    "        print(\"주문을 종료합니다\")\n",
    "        break"
   ]
  },
  {
   "cell_type": "code",
   "execution_count": 156,
   "metadata": {},
   "outputs": [
    {
     "name": "stdout",
     "output_type": "stream",
     "text": [
      "\n",
      "1. 짜장면 - 5,000원 \t 2. 짬뽕 - 6,000원 \n",
      "3. 군만두 - 8,000원 \t 4. 탕수육 - 10,000원\n",
      "\n",
      "위 메뉴 중 주문할 메뉴의 번호를 쓰세요 : 1\n",
      "위 메뉴의 주문 수량을 쓰세요 : 2\n",
      "\n",
      "주문하신 메뉴는 짜장면이고 주문 수량은 2그릇이며 주문금액은 10000원입니다.\n",
      "추가 주문을 하시겠습니까? (Y / N) : y\n",
      "\n",
      "1. 짜장면 - 5,000원 \t 2. 짬뽕 - 6,000원 \n",
      "3. 군만두 - 8,000원 \t 4. 탕수육 - 10,000원\n",
      "\n",
      "위 메뉴 중 주문할 메뉴의 번호를 쓰세요 : 3\n",
      "위 메뉴의 주문 수량을 쓰세요 : 4\n",
      "\n",
      "주문하신 메뉴는 군만두이고 주문 수량은 4그릇이며 주문금액은 32000원입니다.\n",
      "추가 주문을 하시겠습니까? (Y / N) : Y\n",
      "\n",
      "1. 짜장면 - 5,000원 \t 2. 짬뽕 - 6,000원 \n",
      "3. 군만두 - 8,000원 \t 4. 탕수육 - 10,000원\n",
      "\n",
      "위 메뉴 중 주문할 메뉴의 번호를 쓰세요 : 3\n",
      "위 메뉴의 주문 수량을 쓰세요 : 2\n",
      "\n",
      "주문하신 메뉴는 군만두이고 주문 수량은 2그릇이며 주문금액은 16000원입니다.\n",
      "추가 주문은 3회까지만 가능합니다.\n"
     ]
    }
   ],
   "source": [
    "# 2\n",
    "\n",
    "orderCnt = 0\n",
    "while 1 :\n",
    "    print(\"\\n1. 짜장면 - 5,000원 \\t 2. 짬뽕 - 6,000원 \\n3. 군만두 - 8,000원 \\t 4. 탕수육 - 10,000원\\n\")\n",
    "    menuNum = int(input(\"위 메뉴 중 주문할 메뉴의 번호를 쓰세요 : \"))\n",
    "    if menuNum == 1 :\n",
    "        menuPrice = int(5000)\n",
    "        menuName = \"짜장면\"\n",
    "    elif menuNum == 2 :\n",
    "        menuPrice = int(6000)\n",
    "        menuName = \"짬뽕\"\n",
    "    elif menuNum == 3 :\n",
    "        menuName = \"군만두\"\n",
    "        menuPrice = int(8000)\n",
    "    elif menuNum == 4 :\n",
    "        menuPrice = int(10000)\n",
    "        menuName = \"탕수육\"\n",
    "    else :\n",
    "        print(\"1에서 4 사이의 정수를 입력하세요\")\n",
    "\n",
    "    menuCount = int(input(\"위 메뉴의 주문 수량을 쓰세요 : \"))\n",
    "\n",
    "    orderCnt += 1\n",
    "    print(\"\\n주문하신 메뉴는 %s이고 주문 수량은 %s그릇이며 주문금액은 %s원입니다.\" %(menuName, menuCount, menuPrice * menuCount))\n",
    "    \n",
    "    if orderCnt >= 3 : \n",
    "        print(\"추가 주문은 3회까지만 가능합니다.\")\n",
    "        break\n",
    "    else :\n",
    "        addOrder = input(\"추가 주문을 하시겠습니까? (Y / N) : \")\n",
    "        if addOrder == \"Y\" or addOrder == \"y\" :\n",
    "            continue\n",
    "        else : \n",
    "            break\n",
    "\n"
   ]
  },
  {
   "cell_type": "markdown",
   "metadata": {},
   "source": [
    "## 함수 연습문제"
   ]
  },
  {
   "cell_type": "code",
   "execution_count": 158,
   "metadata": {},
   "outputs": [
    {
     "data": {
      "text/plain": [
       "1"
      ]
     },
     "execution_count": 158,
     "metadata": {},
     "output_type": "execute_result"
    }
   ],
   "source": [
    "# 1. 두 숫자를 입력받아 큰 수에서 작은 수 뺀 결과 값 출력\n",
    "\n",
    "def sub(num1, num2) : \n",
    "    return(abs(num1-num2))\n",
    "\n",
    "min(5,4)"
   ]
  },
  {
   "cell_type": "code",
   "execution_count": 169,
   "metadata": {},
   "outputs": [
    {
     "data": {
      "text/plain": [
       "1000"
      ]
     },
     "execution_count": 169,
     "metadata": {},
     "output_type": "execute_result"
    }
   ],
   "source": [
    "# 2. 여러 개의 숫자를 입력받아 가장 큰 값 출력\n",
    "\n",
    "def maxInList(*num) :\n",
    "    max = num[0]\n",
    "    for i in num :\n",
    "        if max < i :\n",
    "            max = i\n",
    "    return(max)\n",
    "\n",
    "maxInList(5, 4, 10, 1000, 532)"
   ]
  },
  {
   "cell_type": "code",
   "execution_count": 171,
   "metadata": {},
   "outputs": [
    {
     "data": {
      "text/plain": [
       "55"
      ]
     },
     "execution_count": 171,
     "metadata": {},
     "output_type": "execute_result"
    }
   ],
   "source": [
    "# 3. 임의의 개수의 숫자를 입력 받아 총 합을 출력\n",
    "\n",
    "def sum(*num) :\n",
    "    sum = 0\n",
    "    for i in num :\n",
    "        sum += i\n",
    "    return(sum)\n",
    "\n",
    "sum(1,2,3,4,5,6,7,8,9,10)"
   ]
  },
  {
   "cell_type": "code",
   "execution_count": 173,
   "metadata": {},
   "outputs": [
    {
     "data": {
      "text/plain": [
       "9"
      ]
     },
     "execution_count": 173,
     "metadata": {},
     "output_type": "execute_result"
    }
   ],
   "source": [
    "# 4. 임의의 개수의 숫자를 입력 받아서 갖아 큰 값에서 가장 작은 값을 뺀 결과를 출력\n",
    "def subMaxToMin(*num) :\n",
    "    max = num[0]\n",
    "    min = num[0]\n",
    "    for i in num :\n",
    "        if max < i :\n",
    "            max = i\n",
    "        if min > i : \n",
    "            min = i\n",
    "    return(max-min)\n",
    "\n",
    "subMaxToMin(1,2,3,4,5,6,7,8,9,10)"
   ]
  },
  {
   "cell_type": "markdown",
   "metadata": {},
   "source": [
    "## 모듈 경로 추가"
   ]
  },
  {
   "cell_type": "code",
   "execution_count": 3,
   "metadata": {},
   "outputs": [
    {
     "name": "stdout",
     "output_type": "stream",
     "text": [
      "첫번째 모듈 연습\n"
     ]
    }
   ],
   "source": [
    "import sys\n",
    "sys.path.append(\"C:\\\\Users\\\\LeeKyoungJun\\\\Desktop\")\n",
    "import exModule\n",
    "print(exModule.m_1())"
   ]
  },
  {
   "cell_type": "markdown",
   "metadata": {},
   "source": [
    "## 모듈 안의 특정 함수만 사용하기"
   ]
  },
  {
   "cell_type": "markdown",
   "metadata": {},
   "source": [
    "from exModule2 import m_1, m_3\n",
    "print(exModule2.m_1())\n",
    "print(exModule2.m_4())"
   ]
  },
  {
   "cell_type": "code",
   "execution_count": 4,
   "metadata": {},
   "outputs": [
    {
     "name": "stdout",
     "output_type": "stream",
     "text": [
      "입력하신 숫자 3와 2의 합은 5입니다.\n",
      "입력하신 숫자 3와 2의 차는 1입니다.\n",
      "입력하신 숫자 3와 2의 곱은 6입니다.\n",
      "입력하신 숫자 3와 2의 나누기한 값은 1.5입니다.\n"
     ]
    }
   ],
   "source": [
    "import ex_4\n",
    "ex_4.e_plus(3, 2)\n",
    "ex_4.e_minus(3, 2)\n",
    "ex_4.e_prod(3, 2)\n",
    "ex_4.e_div(3, 2)"
   ]
  },
  {
   "cell_type": "code",
   "execution_count": null,
   "metadata": {},
   "outputs": [],
   "source": []
  }
 ],
 "metadata": {
  "kernelspec": {
   "display_name": "Python 3",
   "language": "python",
   "name": "python3"
  },
  "language_info": {
   "codemirror_mode": {
    "name": "ipython",
    "version": 3
   },
   "file_extension": ".py",
   "mimetype": "text/x-python",
   "name": "python",
   "nbconvert_exporter": "python",
   "pygments_lexer": "ipython3",
   "version": "3.5.4"
  }
 },
 "nbformat": 4,
 "nbformat_minor": 4
}
