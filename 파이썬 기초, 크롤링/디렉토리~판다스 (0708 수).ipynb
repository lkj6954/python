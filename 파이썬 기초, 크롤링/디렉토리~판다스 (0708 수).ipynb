{
 "cells": [
  {
   "cell_type": "markdown",
   "metadata": {},
   "source": [
    "# Chap 6. 디렉토리와 파일 관리하기\n",
    "## 1. OS 모듈을 통한 디렉토리 관리\n",
    "### rmdir(), removedirs() <- 쓰는 일은 별로 없을 것임. 실수로 삭제하면 복구하기 힘들기 때문에.\n",
    "\n",
    "### 파일 경로 입력시에는 \\를 두 번이 아닌 한 번만 써야 함"
   ]
  },
  {
   "cell_type": "code",
   "execution_count": 124,
   "metadata": {},
   "outputs": [
    {
     "name": "stdout",
     "output_type": "stream",
     "text": [
      "현재 디렉토리 : C:\\temp\n",
      "현재 디렉토리 : C:\\py_temp\n"
     ]
    }
   ],
   "source": [
    "import os\n",
    "\n",
    "print(\"현재 디렉토리 : %s\" % os.getcwd() )\n",
    "os.chdir(\"C:\\\\py_temp\")\n",
    "print(\"현재 디렉토리 : %s\" % os.getcwd() )"
   ]
  },
  {
   "cell_type": "markdown",
   "metadata": {},
   "source": [
    "## 현재 디렉토리 확인 : .getcwd() <= CurrentWorkingDirectory\n",
    "## 디렉토리 변경 : .chdir(\"절대경로 또는 상대경로\") <= CHangeDIRectory"
   ]
  },
  {
   "cell_type": "code",
   "execution_count": 126,
   "metadata": {},
   "outputs": [
    {
     "data": {
      "text/plain": [
       "['.ipynb_checkpoints',\n",
       " 'RHINO.ipynb',\n",
       " 'sampleFile',\n",
       " '파이썬 연습 1.ipynb',\n",
       " '파이썬 연습2(0708 수).ipynb']"
      ]
     },
     "execution_count": 126,
     "metadata": {},
     "output_type": "execute_result"
    }
   ],
   "source": [
    "os.listdir(\".\")"
   ]
  },
  {
   "cell_type": "code",
   "execution_count": 127,
   "metadata": {},
   "outputs": [
    {
     "name": "stdout",
     "output_type": "stream",
     "text": [
      ".ipynb_checkpoints\n",
      "RHINO.ipynb\n",
      "sampleFile\n",
      "파이썬 연습 1.ipynb\n",
      "파이썬 연습2(0708 수).ipynb\n"
     ]
    }
   ],
   "source": [
    "for i in os.listdir(\".\") :\n",
    "    print(i)"
   ]
  },
  {
   "cell_type": "markdown",
   "metadata": {},
   "source": [
    "## 경로의 폴더와 파일 목록 출력 : .listdir(\"경로\")\n",
    "## 위의 for문처럼도 출력가능"
   ]
  },
  {
   "cell_type": "code",
   "execution_count": 129,
   "metadata": {},
   "outputs": [
    {
     "name": "stdout",
     "output_type": "stream",
     "text": [
      "True\n"
     ]
    }
   ],
   "source": [
    "print( os.path.exists(\".\\\\파이썬 연습 1.ipynb\"))"
   ]
  },
  {
   "cell_type": "markdown",
   "metadata": {},
   "source": [
    "## 경로에 폴더나 파일 존재하는지 확인 : os.path.exists(\"경로\")\n",
    "### 결과값은 Boolean으로"
   ]
  },
  {
   "cell_type": "code",
   "execution_count": 135,
   "metadata": {},
   "outputs": [
    {
     "data": {
      "text/plain": [
       "['.ipynb_checkpoints',\n",
       " 'makedirs테스트',\n",
       " 'makedir테스트',\n",
       " 'makedir테스트1',\n",
       " 'makedir테스트2',\n",
       " 'RHINO.ipynb',\n",
       " 'sampleFile',\n",
       " '파이썬 연습 1.ipynb',\n",
       " '파이썬 연습2(0708 수).ipynb']"
      ]
     },
     "execution_count": 135,
     "metadata": {},
     "output_type": "execute_result"
    }
   ],
   "source": [
    "os.mkdir(\".\\\\makedir테스트2\")\n",
    "os.makedirs(\".\\\\makedirs테스트\\\\makedirs테스트2\")\n",
    "os.listdir(\".\")"
   ]
  },
  {
   "cell_type": "markdown",
   "metadata": {},
   "source": [
    "## 폴더 생성 : os.mkdir(\"경로\"), os.makedirs(\"경로\")\n",
    "### mkdir은 단일 폴더, makedirs는 하위폴더까지 여러 개 생성\n",
    "### mk와 make 헷갈릴 듯\n",
    "### 두 명령어 모두 이미 폴더가 존재하면 FileExistsError 뜸"
   ]
  },
  {
   "cell_type": "code",
   "execution_count": 139,
   "metadata": {},
   "outputs": [
    {
     "data": {
      "text/plain": [
       "['.ipynb_checkpoints',\n",
       " 'makedir테스트',\n",
       " 'makedir테스트2',\n",
       " 'RHINO.ipynb',\n",
       " 'sampleFile',\n",
       " '파이썬 연습 1.ipynb',\n",
       " '파이썬 연습2(0708 수).ipynb']"
      ]
     },
     "execution_count": 139,
     "metadata": {},
     "output_type": "execute_result"
    }
   ],
   "source": [
    "# os.rmdir(\".\\\\makedirs테스트\")\n",
    "os.removedirs(\".\\\\makedir테스트1\")\n",
    "os.listdir(\".\")"
   ]
  },
  {
   "cell_type": "markdown",
   "metadata": {},
   "source": [
    "## 폴더 삭제 : rmdir(), removedirs()\n",
    "### 두 명령어 모두 삭제할 폴더 내에 뭐가 들어가 있으면 실행 안됨\n",
    "### 단, removedirs의 경우 삭제할 폴더의 하위에 폴더만 있다면 다같이 삭제됨"
   ]
  },
  {
   "cell_type": "code",
   "execution_count": 143,
   "metadata": {},
   "outputs": [
    {
     "name": "stdout",
     "output_type": "stream",
     "text": [
      "C:\\py_temp\n"
     ]
    }
   ],
   "source": [
    "print(os.getcwd())\n",
    "\n",
    "file = open(\"test.txt\", \"w\")\n",
    "file.write(\"테스트\")\n",
    "file.close()"
   ]
  },
  {
   "cell_type": "markdown",
   "metadata": {},
   "source": [
    "## 텍스트 파일 열어서(생성해서) 쓰고 저장하기\n",
    "### var = open( \"(경로+)파일명\" , \"w\") <= w가 아닌 \"w\"\n",
    "### var.write(\"입력할 내용\") \n",
    "### var.close()\n",
    "### \"w\" 쓰면 기존 내용 삭제 후 \"덮어쓰기\"가 되므로 우리는 덧붙이는 \"a\" 모드를 많이 쓸 것임"
   ]
  },
  {
   "cell_type": "code",
   "execution_count": 145,
   "metadata": {},
   "outputs": [
    {
     "data": {
      "text/plain": [
       "['1.새우깡\\n', '2.맛동산\\n', '3.감자깡\\n', '4.고구마깡\\n', '5.꼬깔콘']"
      ]
     },
     "execution_count": 145,
     "metadata": {},
     "output_type": "execute_result"
    }
   ],
   "source": [
    "file = open(\".\\\\sampleFile\\\\readme.txt\", \"r\")\n",
    "file.readlines()"
   ]
  },
  {
   "cell_type": "code",
   "execution_count": 155,
   "metadata": {},
   "outputs": [
    {
     "name": "stdout",
     "output_type": "stream",
     "text": [
      "1.새우깡\n",
      "\n",
      "5.꼬깔콘\n",
      "\n",
      "================================================================================\n",
      "1.새우깡\n",
      "\n",
      "2.맛동산\n",
      "\n",
      "3.감자깡\n",
      "\n",
      "4.고구마깡\n",
      "\n",
      "5.꼬깔콘\n"
     ]
    }
   ],
   "source": [
    "file = open(\".\\\\sampleFile\\\\readme.txt\", \"r\")\n",
    "txtFile = file.readlines()\n",
    "print(txtFile[0])\n",
    "print(txtFile[4] + \"\\n\")\n",
    "print(\"=\" *80)\n",
    "\n",
    "for i in txtFile :\n",
    "    print(i)"
   ]
  },
  {
   "cell_type": "markdown",
   "metadata": {},
   "source": [
    "## .readlines()를 변수에 저장해서 라인별로 출력할 수도 있고, for문으로도 쓸 수 있다."
   ]
  },
  {
   "cell_type": "code",
   "execution_count": 39,
   "metadata": {},
   "outputs": [],
   "source": [
    "import pandas as pd\n",
    "\n",
    "no = []\n",
    "subject_name = []\n",
    "\n",
    "no.append(1)\n",
    "no.append(2)\n",
    "no.append(3)\n",
    "\n",
    "subject_name.append('수학')\n",
    "subject_name.append('과학')\n",
    "subject_name.append('빅데이터')\n",
    "\n",
    "subject = pd.DataFrame()\n",
    "subject['과목번호'] = no\n",
    "subject['과목명'] = subject_name\n",
    "\n",
    "# subject.to_csv(\".\\\\subject.csv\", encoding = \"utf-8-sig\", index=False)\n",
    "subject.to_excel(\".\\\\subject.xlsx\", index=False)"
   ]
  },
  {
   "cell_type": "markdown",
   "metadata": {},
   "source": [
    "## Dataframe만들고 각 컬럼에 리스트 넣고 변수.to_csv(\"\") 로 csv 파일 저장, 변수.to_excel로 xlsx(xls는 이 방식으로는 안됨!) 파일 저장"
   ]
  },
  {
   "cell_type": "markdown",
   "metadata": {},
   "source": [
    "# 디렉토리와 파일 관리하기 연습문제"
   ]
  },
  {
   "cell_type": "code",
   "execution_count": 22,
   "metadata": {},
   "outputs": [
    {
     "name": "stdout",
     "output_type": "stream",
     "text": [
      "생성할 폴더명을 입력하세요(현재 폴더 : C:\\py_temp)\n",
      "k_2\n",
      "k_2 폴더가 이미 존재하므로 k_2_2 폴더를 생성했습니다. (경로 : C:\\py_temp\\k_2_2)\n"
     ]
    }
   ],
   "source": [
    "# 1\n",
    "\n",
    "import os\n",
    "\n",
    "print(\"생성할 폴더명을 입력하세요(현재 폴더 : %s)\" % os.getcwd() )\n",
    "foldName = input(\"\")\n",
    "\n",
    "if os.path.exists(foldName) == False : \n",
    "    os.mkdir(\".\\\\\" + foldName)\n",
    "    print(\"%s 폴더를 생성했습니다. (경로 : %s\\\\%s)\" %(foldName, os.getcwd(), foldName))\n",
    "else :\n",
    "    makedFolder = foldName + \"_2\"\n",
    "    os.mkdir(makedFolder)\n",
    "    print(\"%s 폴더가 이미 존재하므로 %s 폴더를 생성했습니다. (경로 : %s\\\\%s)\" %(foldName, makedFolder, os.getcwd(), makedFolder))\n",
    "    "
   ]
  },
  {
   "cell_type": "code",
   "execution_count": 61,
   "metadata": {},
   "outputs": [
    {
     "name": "stdout",
     "output_type": "stream",
     "text": [
      "blog.naver.com 의 개수는 모두 3개 입니다.\n",
      "blog.tistory.com 의 개수는 모두 2개 입니다.\n",
      "blog.blog.com 의 개수는 모두 2개 입니다.\n"
     ]
    }
   ],
   "source": [
    "# 2\n",
    "\n",
    "navCount = tCount = blogCount = 0\n",
    "\n",
    "p2File = open(\".\\\\sampleFile\\\\url.txt\", \"r\")\n",
    "sen = p2File.readlines()\n",
    "\n",
    "count = 0\n",
    "for i in range(1, len(sen)+1) :\n",
    "    core = sen[count].split('/')\n",
    "    if core[2] == \"blog.naver.com\" :\n",
    "        navCount += 1\n",
    "    elif core[2] == \"blog.tistory.com\" :\n",
    "        tCount += 1\n",
    "    elif core[2] == \"blog.blog.me\" :\n",
    "        blogCount += 1\n",
    "    count+=1\n",
    "\n",
    "print(\"blog.naver.com 의 개수는 모두 %s개 입니다.\" % navCount)\n",
    "print(\"blog.tistory.com 의 개수는 모두 %s개 입니다.\" % tCount)\n",
    "print(\"blog.blog.com 의 개수는 모두 %s개 입니다.\" % blogCount)"
   ]
  },
  {
   "cell_type": "code",
   "execution_count": 93,
   "metadata": {},
   "outputs": [
    {
     "name": "stdout",
     "output_type": "stream",
     "text": [
      "첫번째 댓글입니다\n",
      "두번째 댓글입니다\n",
      "세번째 댓글입니다\n",
      "네번째 댓글입니다\n",
      "다섯번째 댓글입니다\n"
     ]
    }
   ],
   "source": [
    "# 3\n",
    "import pandas as pd\n",
    "# os.path.exists(\".\\\\sampleFile\\\\댓글내용.xlsx\")\n",
    "\n",
    "p3Excel = pd.read_excel(\".\\\\sampleFile\\\\댓글내용.xlsx\")\n",
    "for i in range(0, len(p3Excel)) :\n",
    "    print(p3Excel['댓글내용'][i])"
   ]
  },
  {
   "cell_type": "markdown",
   "metadata": {},
   "source": [
    "# 데이터 만질 때 원본은 항상 그대로 남겨두기"
   ]
  },
  {
   "cell_type": "markdown",
   "metadata": {},
   "source": [
    "# Chap 7. 예외처리"
   ]
  },
  {
   "cell_type": "code",
   "execution_count": 98,
   "metadata": {},
   "outputs": [
    {
     "name": "stdout",
     "output_type": "stream",
     "text": [
      "숫자입력해 : 싫어\n",
      "숫자 입력해라고요\n"
     ]
    }
   ],
   "source": [
    "try : \n",
    "    var = int(input(\"숫자입력해 : \"))\n",
    "except (ValueError, ZeroDivisionError) :\n",
    "    print(\"숫자 입력해라고요\")\n",
    "else :\n",
    "    print(\"잘했누\")"
   ]
  },
  {
   "cell_type": "markdown",
   "metadata": {},
   "source": [
    "## except에 오류 종류 여러 개 쓸 수 있음. ex) (ValueError, ZeroDivisionError)"
   ]
  },
  {
   "cell_type": "code",
   "execution_count": 106,
   "metadata": {},
   "outputs": [
    {
     "name": "stdout",
     "output_type": "stream",
     "text": [
      "값 두 개를 입력받아 나누기를 수행합니다.\n",
      "\n",
      "첫 번째 숫자 입력 : 5\n",
      "두 번째 숫자 입력 : 0\n",
      "0(으)로 5(을)를 나눌 수 있을거라 생각해?\n"
     ]
    }
   ],
   "source": [
    "try :\n",
    "    print(\"값 두 개를 입력받아 나누기를 수행합니다.\\n\")\n",
    "    int1 = int(input(\"첫 번째 숫자 입력 : \"))\n",
    "    int2 = int(input(\"두 번째 숫자 입력 : \"))\n",
    "    print(\"%s를 %s로 나눈 값은 %s입니다.\" %(int1, int2, (int1/int2)))\n",
    "except ValueError : \n",
    "    print(\"숫자 입력 안했누\")\n",
    "except ZeroDivisionError :\n",
    "    print(\"%s(으)로 %s(을)를 나눌 수 있을거라 생각해?\" %(int2, int1))"
   ]
  },
  {
   "cell_type": "markdown",
   "metadata": {},
   "source": [
    "## except 여러 개 쓸 수 있음"
   ]
  },
  {
   "cell_type": "code",
   "execution_count": 107,
   "metadata": {},
   "outputs": [
    {
     "name": "stdout",
     "output_type": "stream",
     "text": [
      "숫자만 입력 : 만\n",
      "숫자만 입력하라고;\n"
     ]
    }
   ],
   "source": [
    "try :\n",
    "    int1 = int(input(\"숫자만 입력 : \"))\n",
    "except :\n",
    "    print(\"숫자만 입력하라고;\")"
   ]
  },
  {
   "cell_type": "markdown",
   "metadata": {},
   "source": [
    "## 예외처리 연습문제"
   ]
  },
  {
   "cell_type": "code",
   "execution_count": 114,
   "metadata": {},
   "outputs": [
    {
     "name": "stdout",
     "output_type": "stream",
     "text": [
      "몇 건을 출력할까요? : 10\n",
      "홍길동\n",
      "\n",
      "일지매\n",
      "\n",
      "전우치\n",
      "\n",
      "강감찬\n",
      "\n",
      "신사임당 \n",
      "\n",
      "모든 행이 출력 완료되었습니다\n"
     ]
    }
   ],
   "source": [
    "# 1\n",
    "import os\n",
    "\n",
    "try :\n",
    "    txtFile = open(\".\\\\sampleFile\\\\예외처리연습.txt\", \"r\")\n",
    "    lines = txtFile.readlines()\n",
    "    countOfLine = int(input(\"몇 건을 출력할까요? : \"))\n",
    "\n",
    "    for i in range(0,countOfLine) :\n",
    "        print(lines[i])\n",
    "except IndexError :\n",
    "    print(\"모든 행이 출력 완료되었습니다\")"
   ]
  },
  {
   "cell_type": "markdown",
   "metadata": {},
   "source": [
    "# Chap 8. Numpy와 Pandas 모듈을 활용한 정형 데이터 관리\n",
    "## 1. Numpy 모듈을 활용한 데이터 관리"
   ]
  },
  {
   "cell_type": "code",
   "execution_count": 1,
   "metadata": {},
   "outputs": [],
   "source": [
    "import numpy as np"
   ]
  },
  {
   "cell_type": "code",
   "execution_count": 2,
   "metadata": {},
   "outputs": [],
   "source": [
    "data1 = [1,2,3,4,5]\n",
    "arr1 = np.array(data1)"
   ]
  },
  {
   "cell_type": "code",
   "execution_count": 3,
   "metadata": {},
   "outputs": [
    {
     "data": {
      "text/plain": [
       "(5,)"
      ]
     },
     "execution_count": 3,
     "metadata": {},
     "output_type": "execute_result"
    }
   ],
   "source": [
    "arr1.shape"
   ]
  },
  {
   "cell_type": "code",
   "execution_count": 4,
   "metadata": {},
   "outputs": [
    {
     "data": {
      "text/plain": [
       "dtype('int32')"
      ]
     },
     "execution_count": 4,
     "metadata": {},
     "output_type": "execute_result"
    }
   ],
   "source": [
    "arr1.dtype"
   ]
  },
  {
   "cell_type": "markdown",
   "metadata": {},
   "source": [
    "## numpy 내장함수 .dtype 으로 배열 자료형 알 수 있음"
   ]
  },
  {
   "cell_type": "code",
   "execution_count": 5,
   "metadata": {},
   "outputs": [
    {
     "data": {
      "text/plain": [
       "array([[1, 2, 3],\n",
       "       [4, 5, 6],\n",
       "       [7, 8, 9]])"
      ]
     },
     "execution_count": 5,
     "metadata": {},
     "output_type": "execute_result"
    }
   ],
   "source": [
    "arr4 = np.array([ [1,2,3], [4,5,6], [7,8,9] ])\n",
    "arr4"
   ]
  },
  {
   "cell_type": "markdown",
   "metadata": {},
   "source": [
    "## arr4 = np.array( [ [a,b], [c,d] ] ) 형태로 2차원 배열 가능"
   ]
  },
  {
   "cell_type": "code",
   "execution_count": 6,
   "metadata": {},
   "outputs": [
    {
     "data": {
      "text/plain": [
       "array([[5, 5],\n",
       "       [5, 5]])"
      ]
     },
     "execution_count": 6,
     "metadata": {},
     "output_type": "execute_result"
    }
   ],
   "source": [
    "arr5 = np.array([ [1,2], [3,4] ])\n",
    "arr6 = np.array([ [4,3], [2,1] ])\n",
    "arr5 + arr6"
   ]
  },
  {
   "cell_type": "code",
   "execution_count": 7,
   "metadata": {},
   "outputs": [
    {
     "data": {
      "text/plain": [
       "array([0, 1, 2, 3, 4, 5, 6, 7, 8, 9])"
      ]
     },
     "execution_count": 7,
     "metadata": {},
     "output_type": "execute_result"
    }
   ],
   "source": [
    "arr1 = np.arange(10)\n",
    "arr1"
   ]
  },
  {
   "cell_type": "markdown",
   "metadata": {},
   "source": [
    "## numpy 내장함수 .arange(num) 으로 0부터 num까지 1차원 정수 배열 만들 수 있음. num에 음수는 안들어가짐"
   ]
  },
  {
   "cell_type": "markdown",
   "metadata": {},
   "source": [
    "## 빈 배열 만드려면 arr1 = np.array([])  ()안에 [] 써야 함"
   ]
  },
  {
   "cell_type": "code",
   "execution_count": 8,
   "metadata": {},
   "outputs": [
    {
     "data": {
      "text/plain": [
       "array([0, 1, 2, 3, 4, 5, 6, 7, 8, 9])"
      ]
     },
     "execution_count": 8,
     "metadata": {},
     "output_type": "execute_result"
    }
   ],
   "source": [
    "arr1[3]\n",
    "arr1[3:]\n",
    "arr1[:] # 전체 요소"
   ]
  },
  {
   "cell_type": "code",
   "execution_count": 9,
   "metadata": {},
   "outputs": [
    {
     "data": {
      "text/plain": [
       "array([[0.87846573, 0.66295247, 0.68157452],\n",
       "       [0.95078595, 0.42052118, 0.40599642],\n",
       "       [0.71358058, 0.54236058, 0.87342366]])"
      ]
     },
     "execution_count": 9,
     "metadata": {},
     "output_type": "execute_result"
    }
   ],
   "source": [
    "arr1 = np.random.rand(3,3)\n",
    "arr1"
   ]
  },
  {
   "cell_type": "markdown",
   "metadata": {},
   "source": [
    "## numpy의 random 함수의 randn(n,m) 은 n행m열의 가우시간 정규분포 따르는 난수 생성\n",
    "## numpy의 random 함수의 rand(n,m)은 n행m열의 0~1 사이 난수 생성\n",
    "## 둘 다 대괄호 안쓰는 것 유의"
   ]
  },
  {
   "cell_type": "code",
   "execution_count": 10,
   "metadata": {},
   "outputs": [
    {
     "data": {
      "text/plain": [
       "array([[1, 2],\n",
       "       [3, 4]])"
      ]
     },
     "execution_count": 10,
     "metadata": {},
     "output_type": "execute_result"
    }
   ],
   "source": [
    "arr2 = [ [-1,-2], [3,4] ]\n",
    "np.abs(arr2)"
   ]
  },
  {
   "cell_type": "code",
   "execution_count": 11,
   "metadata": {},
   "outputs": [
    {
     "data": {
      "text/plain": [
       "array([[ 1,  4],\n",
       "       [ 9, 16]], dtype=int32)"
      ]
     },
     "execution_count": 11,
     "metadata": {},
     "output_type": "execute_result"
    }
   ],
   "source": [
    "np.square(arr2)"
   ]
  },
  {
   "cell_type": "code",
   "execution_count": 12,
   "metadata": {},
   "outputs": [
    {
     "data": {
      "text/plain": [
       "array([[2., 2.],\n",
       "       [2., 4.]])"
      ]
     },
     "execution_count": 12,
     "metadata": {},
     "output_type": "execute_result"
    }
   ],
   "source": [
    "arr3 = [ [1.5, 1.1], [2.0, 3.4] ]\n",
    "np.ceil(arr3)"
   ]
  },
  {
   "cell_type": "code",
   "execution_count": 13,
   "metadata": {},
   "outputs": [
    {
     "data": {
      "text/plain": [
       "array([[1., 1.],\n",
       "       [2., 3.]])"
      ]
     },
     "execution_count": 13,
     "metadata": {},
     "output_type": "execute_result"
    }
   ],
   "source": [
    "np.floor(arr3)"
   ]
  },
  {
   "cell_type": "code",
   "execution_count": 14,
   "metadata": {},
   "outputs": [
    {
     "data": {
      "text/plain": [
       "array([[False, False],\n",
       "       [False, False]])"
      ]
     },
     "execution_count": 14,
     "metadata": {},
     "output_type": "execute_result"
    }
   ],
   "source": [
    "np.isnan(arr3)"
   ]
  },
  {
   "cell_type": "code",
   "execution_count": 15,
   "metadata": {},
   "outputs": [
    {
     "data": {
      "text/plain": [
       "array([[False, False],\n",
       "       [False, False]])"
      ]
     },
     "execution_count": 15,
     "metadata": {},
     "output_type": "execute_result"
    }
   ],
   "source": [
    "np.isinf(arr3)"
   ]
  },
  {
   "cell_type": "code",
   "execution_count": 16,
   "metadata": {},
   "outputs": [
    {
     "data": {
      "text/plain": [
       "array([[ 0.0707372 ,  0.45359612],\n",
       "       [-0.41614684, -0.96679819]])"
      ]
     },
     "execution_count": 16,
     "metadata": {},
     "output_type": "execute_result"
    }
   ],
   "source": [
    "np.cos(arr3)"
   ]
  },
  {
   "cell_type": "code",
   "execution_count": 17,
   "metadata": {},
   "outputs": [
    {
     "data": {
      "text/plain": [
       "array([[2. , 3.4],\n",
       "       [1.1, 1.5]])"
      ]
     },
     "execution_count": 17,
     "metadata": {},
     "output_type": "execute_result"
    }
   ],
   "source": [
    "# np.sort(arr3)\n",
    "np.sort(arr3)[::-1]\n"
   ]
  },
  {
   "cell_type": "code",
   "execution_count": 18,
   "metadata": {},
   "outputs": [
    {
     "data": {
      "text/plain": [
       "array([[1.5, 1.1],\n",
       "       [2. , 3.4]])"
      ]
     },
     "execution_count": 18,
     "metadata": {},
     "output_type": "execute_result"
    }
   ],
   "source": [
    "np.sort(arr3, axis = 0)"
   ]
  },
  {
   "cell_type": "markdown",
   "metadata": {},
   "source": [
    "## .sort에 axis=0 옵션 쓰면 행 방향으로 정렬가능(?)"
   ]
  },
  {
   "cell_type": "markdown",
   "metadata": {},
   "source": [
    "## 내림차순 정렬 이상한데?"
   ]
  },
  {
   "cell_type": "code",
   "execution_count": 19,
   "metadata": {},
   "outputs": [
    {
     "data": {
      "text/plain": [
       "array([[False, False],\n",
       "       [False, False]])"
      ]
     },
     "execution_count": 19,
     "metadata": {},
     "output_type": "execute_result"
    }
   ],
   "source": [
    "np.isinf(arr3)"
   ]
  },
  {
   "cell_type": "code",
   "execution_count": 20,
   "metadata": {},
   "outputs": [
    {
     "data": {
      "text/plain": [
       "array([[-0.40298878, -0.59920273,  0.87431579],\n",
       "       [-0.74575132,  1.25400705,  0.9819929 ],\n",
       "       [ 0.96536701,  2.11543335, -0.91941838],\n",
       "       [ 1.06089135,  0.64395426,  0.91561276],\n",
       "       [ 2.42137624,  0.26381573, -0.63558296]])"
      ]
     },
     "execution_count": 20,
     "metadata": {},
     "output_type": "execute_result"
    }
   ],
   "source": [
    "arr1 = np.random.randn(5,3)\n",
    "arr1"
   ]
  },
  {
   "cell_type": "code",
   "execution_count": 21,
   "metadata": {},
   "outputs": [
    {
     "data": {
      "text/plain": [
       "array([-0.12787572,  1.49024863,  2.16138198,  2.62045837,  2.04960902])"
      ]
     },
     "execution_count": 21,
     "metadata": {},
     "output_type": "execute_result"
    }
   ],
   "source": [
    "# np.sum(arr1)\n",
    "np.sum(arr1, axis = 1)"
   ]
  },
  {
   "cell_type": "markdown",
   "metadata": {},
   "source": [
    "## .sum(배열) : 전체 요소 합 계산\n",
    "### axis=1 옵션 쓰면 각 열 간의 합을 계산\n",
    "### axis=0 옵션 쓰면 각 행 간의 합을 계산"
   ]
  },
  {
   "cell_type": "code",
   "execution_count": 22,
   "metadata": {},
   "outputs": [
    {
     "data": {
      "text/plain": [
       "0.5462548185791724"
      ]
     },
     "execution_count": 22,
     "metadata": {},
     "output_type": "execute_result"
    }
   ],
   "source": [
    "np.mean(arr1)"
   ]
  },
  {
   "cell_type": "markdown",
   "metadata": {},
   "source": [
    "## .mean(배열) 전체 요소의 평균 계산\n",
    "### 여기서도 axis 옵션 사용해서 각 열 또는 각 행 간의 평균 계산 가능"
   ]
  },
  {
   "cell_type": "markdown",
   "metadata": {},
   "source": [
    "## 전체 성분의 표준편차, 분산, 최소값, 최대값 계산 (.std, .var, .min, .max)\n",
    "### 여기서도 옵션으로 axis 가능"
   ]
  },
  {
   "cell_type": "code",
   "execution_count": 23,
   "metadata": {},
   "outputs": [
    {
     "data": {
      "text/plain": [
       "array([[-0.40298878, -0.59920273,  0.87431579],\n",
       "       [-0.74575132,  1.25400705,  0.9819929 ],\n",
       "       [ 0.96536701,  2.11543335, -0.91941838],\n",
       "       [ 1.06089135,  0.64395426,  0.91561276],\n",
       "       [ 2.42137624,  0.26381573, -0.63558296]])"
      ]
     },
     "execution_count": 23,
     "metadata": {},
     "output_type": "execute_result"
    }
   ],
   "source": [
    "arr1"
   ]
  },
  {
   "cell_type": "code",
   "execution_count": 26,
   "metadata": {},
   "outputs": [
    {
     "data": {
      "text/plain": [
       "array([4, 2, 1], dtype=int64)"
      ]
     },
     "execution_count": 26,
     "metadata": {},
     "output_type": "execute_result"
    }
   ],
   "source": [
    "np.argmax(arr1, axis=0)"
   ]
  },
  {
   "cell_type": "markdown",
   "metadata": {},
   "source": [
    "## .argmin, .argmax : 배열의 최소, 최대값이 위치한 인덱스 출력\n",
    "## Q. argmin, argmax의 axis 옵션 주었을 때 나오는 값 이해 못하겠음\n",
    "### 인덱스는 왼->오, 위->아래 순서고 0부터 시작"
   ]
  },
  {
   "cell_type": "code",
   "execution_count": 28,
   "metadata": {},
   "outputs": [
    {
     "data": {
      "text/plain": [
       "array([0, 1, 2, 3, 4, 5, 6, 7, 8, 9])"
      ]
     },
     "execution_count": 28,
     "metadata": {},
     "output_type": "execute_result"
    }
   ],
   "source": [
    "arrEnd = np.arange(10)\n",
    "arrEnd"
   ]
  },
  {
   "cell_type": "code",
   "execution_count": 29,
   "metadata": {},
   "outputs": [
    {
     "data": {
      "text/plain": [
       "array([ 0,  1,  3,  6, 10, 15, 21, 28, 36, 45], dtype=int32)"
      ]
     },
     "execution_count": 29,
     "metadata": {},
     "output_type": "execute_result"
    }
   ],
   "source": [
    "np.cumsum(arrEnd)"
   ]
  },
  {
   "cell_type": "markdown",
   "metadata": {},
   "source": [
    "## .cumsum, .cumprod : 누적합, 누적곱 계산. 숫자형이 아닌 배열값으로 리턴"
   ]
  },
  {
   "cell_type": "code",
   "execution_count": 77,
   "metadata": {},
   "outputs": [
    {
     "data": {
      "text/plain": [
       "array([[1, 2]])"
      ]
     },
     "execution_count": 77,
     "metadata": {},
     "output_type": "execute_result"
    }
   ],
   "source": [
    "a = np.array([\n",
    "    [1, 2, 3],\n",
    "    [4, 5, 6],\n",
    "    [7, 8, 9]])\n",
    "\n",
    "a[0:1,0:2]"
   ]
  },
  {
   "cell_type": "markdown",
   "metadata": {},
   "source": [
    "## numpy 슬라이싱 할 때는 위처럼 [lowRange, colRange] 이래야됨. a[lowRange][colRange] 아님!\n",
    "## 근데 하나의 요소값을 받을 때는 [][] 이렇게도 됨."
   ]
  },
  {
   "cell_type": "markdown",
   "metadata": {},
   "source": [
    "# numpy 연습문제"
   ]
  },
  {
   "cell_type": "code",
   "execution_count": 50,
   "metadata": {},
   "outputs": [
    {
     "data": {
      "text/plain": [
       "array([[ 10,  20,  30],\n",
       "       [ 40,  50,  60],\n",
       "       [ 70,  80,  90],\n",
       "       [100, 110, 120]])"
      ]
     },
     "execution_count": 50,
     "metadata": {},
     "output_type": "execute_result"
    }
   ],
   "source": [
    "# 1\n",
    "import numpy as np\n",
    "\n",
    "p1_np = np.array([ [10, 20, 30], [40, 50, 60], [70, 80, 90], [100, 110, 120] ])\n",
    "p1_np"
   ]
  },
  {
   "cell_type": "code",
   "execution_count": 82,
   "metadata": {},
   "outputs": [
    {
     "data": {
      "text/plain": [
       "[20, 60]"
      ]
     },
     "execution_count": 82,
     "metadata": {},
     "output_type": "execute_result"
    }
   ],
   "source": [
    "# 2\n",
    "\n",
    "p2_li = [p1_np[0,1], p1_np[1,2]]\n",
    "p2_li"
   ]
  },
  {
   "cell_type": "code",
   "execution_count": 78,
   "metadata": {},
   "outputs": [
    {
     "data": {
      "text/plain": [
       "array([[20, 30],\n",
       "       [50, 60]])"
      ]
     },
     "execution_count": 78,
     "metadata": {},
     "output_type": "execute_result"
    }
   ],
   "source": [
    "# 3\n",
    "\n",
    "p3_np = p1_np[0:2, 1:3]\n",
    "p3_np"
   ]
  },
  {
   "cell_type": "markdown",
   "metadata": {},
   "source": [
    "## pandas 연습문제"
   ]
  },
  {
   "cell_type": "code",
   "execution_count": 35,
   "metadata": {},
   "outputs": [
    {
     "data": {
      "text/html": [
       "<div>\n",
       "<style scoped>\n",
       "    .dataframe tbody tr th:only-of-type {\n",
       "        vertical-align: middle;\n",
       "    }\n",
       "\n",
       "    .dataframe tbody tr th {\n",
       "        vertical-align: top;\n",
       "    }\n",
       "\n",
       "    .dataframe thead th {\n",
       "        text-align: right;\n",
       "    }\n",
       "</style>\n",
       "<table border=\"1\" class=\"dataframe\">\n",
       "  <thead>\n",
       "    <tr style=\"text-align: right;\">\n",
       "      <th></th>\n",
       "      <th>번호</th>\n",
       "      <th>이름</th>\n",
       "      <th>생일</th>\n",
       "    </tr>\n",
       "  </thead>\n",
       "  <tbody>\n",
       "    <tr>\n",
       "      <th>0</th>\n",
       "      <td>1번</td>\n",
       "      <td>홍길동</td>\n",
       "      <td>1975</td>\n",
       "    </tr>\n",
       "    <tr>\n",
       "      <th>1</th>\n",
       "      <td>2번</td>\n",
       "      <td>전우치</td>\n",
       "      <td></td>\n",
       "    </tr>\n",
       "    <tr>\n",
       "      <th>2</th>\n",
       "      <td>3번</td>\n",
       "      <td>강감찬</td>\n",
       "      <td>1982</td>\n",
       "    </tr>\n",
       "  </tbody>\n",
       "</table>\n",
       "</div>"
      ],
      "text/plain": [
       "   번호   이름    생일\n",
       "0  1번  홍길동  1975\n",
       "1  2번  전우치      \n",
       "2  3번  강감찬  1982"
      ]
     },
     "execution_count": 35,
     "metadata": {},
     "output_type": "execute_result"
    }
   ],
   "source": [
    "# 1\n",
    "\n",
    "pd_p1 = {'번호' : ['1번', '2번', '3번'],\n",
    "      '이름' : ['홍길동', '전우치', '강감찬'],\n",
    "      '생일' : ['1975', '', '1982']\n",
    "     }\n",
    "pd_p1 = pd.DataFrame(pd_p1, columns = ['번호', '이름', '생일'])\n",
    "pd_p1"
   ]
  },
  {
   "cell_type": "code",
   "execution_count": 36,
   "metadata": {},
   "outputs": [
    {
     "data": {
      "text/html": [
       "<div>\n",
       "<style scoped>\n",
       "    .dataframe tbody tr th:only-of-type {\n",
       "        vertical-align: middle;\n",
       "    }\n",
       "\n",
       "    .dataframe tbody tr th {\n",
       "        vertical-align: top;\n",
       "    }\n",
       "\n",
       "    .dataframe thead th {\n",
       "        text-align: right;\n",
       "    }\n",
       "</style>\n",
       "<table border=\"1\" class=\"dataframe\">\n",
       "  <thead>\n",
       "    <tr style=\"text-align: right;\">\n",
       "      <th></th>\n",
       "      <th>날짜</th>\n",
       "      <th>품목</th>\n",
       "      <th>수량</th>\n",
       "      <th>금액</th>\n",
       "    </tr>\n",
       "  </thead>\n",
       "  <tbody>\n",
       "    <tr>\n",
       "      <th>0</th>\n",
       "      <td>2019-08-23 00:00:00</td>\n",
       "      <td>ANGLE</td>\n",
       "      <td>21</td>\n",
       "      <td>672000</td>\n",
       "    </tr>\n",
       "    <tr>\n",
       "      <th>1</th>\n",
       "      <td>2019-09-09 00:00:00</td>\n",
       "      <td>백관</td>\n",
       "      <td>44</td>\n",
       "      <td>2464000</td>\n",
       "    </tr>\n",
       "    <tr>\n",
       "      <th>2</th>\n",
       "      <td>2019-06-18 00:00:00</td>\n",
       "      <td>절연판</td>\n",
       "      <td>40</td>\n",
       "      <td>1800000</td>\n",
       "    </tr>\n",
       "    <tr>\n",
       "      <th>3</th>\n",
       "      <td>2019-03-13 00:00:00</td>\n",
       "      <td>P/Z O-RING</td>\n",
       "      <td>11</td>\n",
       "      <td>418000</td>\n",
       "    </tr>\n",
       "    <tr>\n",
       "      <th>4</th>\n",
       "      <td>2019-05-11 00:00:00</td>\n",
       "      <td>알코올</td>\n",
       "      <td>38</td>\n",
       "      <td>304000</td>\n",
       "    </tr>\n",
       "    <tr>\n",
       "      <th>5</th>\n",
       "      <td>2019-06-28 00:00:00</td>\n",
       "      <td>실리콘</td>\n",
       "      <td>30</td>\n",
       "      <td>4500000</td>\n",
       "    </tr>\n",
       "    <tr>\n",
       "      <th>6</th>\n",
       "      <td>2019-02-16 00:00:00</td>\n",
       "      <td>소모품</td>\n",
       "      <td>4</td>\n",
       "      <td>8800</td>\n",
       "    </tr>\n",
       "    <tr>\n",
       "      <th>7</th>\n",
       "      <td>2019-10-22 00:00:00</td>\n",
       "      <td>MOTOR</td>\n",
       "      <td>14</td>\n",
       "      <td>420000</td>\n",
       "    </tr>\n",
       "    <tr>\n",
       "      <th>8</th>\n",
       "      <td>2019-03-18 00:00:00</td>\n",
       "      <td>PAPER BRSH</td>\n",
       "      <td>13</td>\n",
       "      <td>520000</td>\n",
       "    </tr>\n",
       "    <tr>\n",
       "      <th>9</th>\n",
       "      <td>2019-07-17 00:00:00</td>\n",
       "      <td>불화카리</td>\n",
       "      <td>23</td>\n",
       "      <td>1909000</td>\n",
       "    </tr>\n",
       "    <tr>\n",
       "      <th>10</th>\n",
       "      <td>2019-07-23 00:00:00</td>\n",
       "      <td>마크펜</td>\n",
       "      <td>33</td>\n",
       "      <td>99000</td>\n",
       "    </tr>\n",
       "    <tr>\n",
       "      <th>11</th>\n",
       "      <td>2019-03-20 00:00:00</td>\n",
       "      <td>NUT</td>\n",
       "      <td>20</td>\n",
       "      <td>300000</td>\n",
       "    </tr>\n",
       "    <tr>\n",
       "      <th>12</th>\n",
       "      <td>2019-01-27 00:00:00</td>\n",
       "      <td>윤활유</td>\n",
       "      <td>30</td>\n",
       "      <td>60000000</td>\n",
       "    </tr>\n",
       "    <tr>\n",
       "      <th>13</th>\n",
       "      <td>2019-07-11 00:00:00</td>\n",
       "      <td>소모품</td>\n",
       "      <td>50</td>\n",
       "      <td>110000</td>\n",
       "    </tr>\n",
       "    <tr>\n",
       "      <th>14</th>\n",
       "      <td>2019-05-16 00:00:00</td>\n",
       "      <td>BITE</td>\n",
       "      <td>14</td>\n",
       "      <td>1204000</td>\n",
       "    </tr>\n",
       "  </tbody>\n",
       "</table>\n",
       "</div>"
      ],
      "text/plain": [
       "                     날짜          품목  수량        금액\n",
       "0   2019-08-23 00:00:00       ANGLE  21    672000\n",
       "1   2019-09-09 00:00:00          백관  44   2464000\n",
       "2   2019-06-18 00:00:00         절연판  40   1800000\n",
       "3   2019-03-13 00:00:00  P/Z O-RING  11    418000\n",
       "4   2019-05-11 00:00:00         알코올  38    304000\n",
       "5   2019-06-28 00:00:00         실리콘  30   4500000\n",
       "6   2019-02-16 00:00:00         소모품   4      8800\n",
       "7   2019-10-22 00:00:00       MOTOR  14    420000\n",
       "8   2019-03-18 00:00:00  PAPER BRSH  13    520000\n",
       "9   2019-07-17 00:00:00        불화카리  23   1909000\n",
       "10  2019-07-23 00:00:00         마크펜  33     99000\n",
       "11  2019-03-20 00:00:00         NUT  20    300000\n",
       "12  2019-01-27 00:00:00         윤활유  30  60000000\n",
       "13  2019-07-11 00:00:00         소모품  50    110000\n",
       "14  2019-05-16 00:00:00        BITE  14   1204000"
      ]
     },
     "execution_count": 36,
     "metadata": {},
     "output_type": "execute_result"
    }
   ],
   "source": [
    "# 2\n",
    "\n",
    "pd_p2 = pd.read_excel(\".\\\\sampleFile\\\\부품구입대장.xlsx\")\n",
    "pd_p2.rename(columns = {'Unnamed: 0' : '날짜', 'Unnamed: 2' : '품목', 'Unnamed: 3' : '수량', 'Unnamed: 5' : '금액'},\n",
    "                inplace = True)\n",
    "pd_p2 = pd_p2[['날짜', '품목', '수량', '금액']]\n",
    "pd_p2 = pd_p2.loc[3:]\n",
    "pd_p2 = pd_p2.reset_index(drop=True)\n",
    "pd_p2"
   ]
  },
  {
   "cell_type": "code",
   "execution_count": 37,
   "metadata": {},
   "outputs": [
    {
     "data": {
      "text/html": [
       "<div>\n",
       "<style scoped>\n",
       "    .dataframe tbody tr th:only-of-type {\n",
       "        vertical-align: middle;\n",
       "    }\n",
       "\n",
       "    .dataframe tbody tr th {\n",
       "        vertical-align: top;\n",
       "    }\n",
       "\n",
       "    .dataframe thead th {\n",
       "        text-align: right;\n",
       "    }\n",
       "</style>\n",
       "<table border=\"1\" class=\"dataframe\">\n",
       "  <thead>\n",
       "    <tr style=\"text-align: right;\">\n",
       "      <th></th>\n",
       "      <th>날짜</th>\n",
       "      <th>품목</th>\n",
       "      <th>수량</th>\n",
       "      <th>금액</th>\n",
       "    </tr>\n",
       "  </thead>\n",
       "  <tbody>\n",
       "    <tr>\n",
       "      <th>12</th>\n",
       "      <td>2019-01-27 00:00:00</td>\n",
       "      <td>윤활유</td>\n",
       "      <td>30</td>\n",
       "      <td>60000000</td>\n",
       "    </tr>\n",
       "    <tr>\n",
       "      <th>5</th>\n",
       "      <td>2019-06-28 00:00:00</td>\n",
       "      <td>실리콘</td>\n",
       "      <td>30</td>\n",
       "      <td>4500000</td>\n",
       "    </tr>\n",
       "    <tr>\n",
       "      <th>1</th>\n",
       "      <td>2019-09-09 00:00:00</td>\n",
       "      <td>백관</td>\n",
       "      <td>44</td>\n",
       "      <td>2464000</td>\n",
       "    </tr>\n",
       "    <tr>\n",
       "      <th>9</th>\n",
       "      <td>2019-07-17 00:00:00</td>\n",
       "      <td>불화카리</td>\n",
       "      <td>23</td>\n",
       "      <td>1909000</td>\n",
       "    </tr>\n",
       "    <tr>\n",
       "      <th>2</th>\n",
       "      <td>2019-06-18 00:00:00</td>\n",
       "      <td>절연판</td>\n",
       "      <td>40</td>\n",
       "      <td>1800000</td>\n",
       "    </tr>\n",
       "    <tr>\n",
       "      <th>14</th>\n",
       "      <td>2019-05-16 00:00:00</td>\n",
       "      <td>BITE</td>\n",
       "      <td>14</td>\n",
       "      <td>1204000</td>\n",
       "    </tr>\n",
       "    <tr>\n",
       "      <th>0</th>\n",
       "      <td>2019-08-23 00:00:00</td>\n",
       "      <td>ANGLE</td>\n",
       "      <td>21</td>\n",
       "      <td>672000</td>\n",
       "    </tr>\n",
       "    <tr>\n",
       "      <th>8</th>\n",
       "      <td>2019-03-18 00:00:00</td>\n",
       "      <td>PAPER BRSH</td>\n",
       "      <td>13</td>\n",
       "      <td>520000</td>\n",
       "    </tr>\n",
       "    <tr>\n",
       "      <th>7</th>\n",
       "      <td>2019-10-22 00:00:00</td>\n",
       "      <td>MOTOR</td>\n",
       "      <td>14</td>\n",
       "      <td>420000</td>\n",
       "    </tr>\n",
       "    <tr>\n",
       "      <th>3</th>\n",
       "      <td>2019-03-13 00:00:00</td>\n",
       "      <td>P/Z O-RING</td>\n",
       "      <td>11</td>\n",
       "      <td>418000</td>\n",
       "    </tr>\n",
       "    <tr>\n",
       "      <th>4</th>\n",
       "      <td>2019-05-11 00:00:00</td>\n",
       "      <td>알코올</td>\n",
       "      <td>38</td>\n",
       "      <td>304000</td>\n",
       "    </tr>\n",
       "    <tr>\n",
       "      <th>11</th>\n",
       "      <td>2019-03-20 00:00:00</td>\n",
       "      <td>NUT</td>\n",
       "      <td>20</td>\n",
       "      <td>300000</td>\n",
       "    </tr>\n",
       "    <tr>\n",
       "      <th>13</th>\n",
       "      <td>2019-07-11 00:00:00</td>\n",
       "      <td>소모품</td>\n",
       "      <td>50</td>\n",
       "      <td>110000</td>\n",
       "    </tr>\n",
       "  </tbody>\n",
       "</table>\n",
       "</div>"
      ],
      "text/plain": [
       "                     날짜          품목  수량        금액\n",
       "12  2019-01-27 00:00:00         윤활유  30  60000000\n",
       "5   2019-06-28 00:00:00         실리콘  30   4500000\n",
       "1   2019-09-09 00:00:00          백관  44   2464000\n",
       "9   2019-07-17 00:00:00        불화카리  23   1909000\n",
       "2   2019-06-18 00:00:00         절연판  40   1800000\n",
       "14  2019-05-16 00:00:00        BITE  14   1204000\n",
       "0   2019-08-23 00:00:00       ANGLE  21    672000\n",
       "8   2019-03-18 00:00:00  PAPER BRSH  13    520000\n",
       "7   2019-10-22 00:00:00       MOTOR  14    420000\n",
       "3   2019-03-13 00:00:00  P/Z O-RING  11    418000\n",
       "4   2019-05-11 00:00:00         알코올  38    304000\n",
       "11  2019-03-20 00:00:00         NUT  20    300000\n",
       "13  2019-07-11 00:00:00         소모품  50    110000"
      ]
     },
     "execution_count": 37,
     "metadata": {},
     "output_type": "execute_result"
    }
   ],
   "source": [
    "# 3\n",
    "pd_p3 = pd_p2.loc[ pd_p2['금액'] > 100000 ]\n",
    "pd_p3 = pd_p3.sort_values( ['금액'], ascending = [False] )\n",
    "pd_p3"
   ]
  },
  {
   "cell_type": "code",
   "execution_count": 38,
   "metadata": {},
   "outputs": [
    {
     "data": {
      "text/html": [
       "<div>\n",
       "<style scoped>\n",
       "    .dataframe tbody tr th:only-of-type {\n",
       "        vertical-align: middle;\n",
       "    }\n",
       "\n",
       "    .dataframe tbody tr th {\n",
       "        vertical-align: top;\n",
       "    }\n",
       "\n",
       "    .dataframe thead th {\n",
       "        text-align: right;\n",
       "    }\n",
       "</style>\n",
       "<table border=\"1\" class=\"dataframe\">\n",
       "  <thead>\n",
       "    <tr style=\"text-align: right;\">\n",
       "      <th></th>\n",
       "      <th>품목</th>\n",
       "      <th>금액</th>\n",
       "    </tr>\n",
       "  </thead>\n",
       "  <tbody>\n",
       "    <tr>\n",
       "      <th>12</th>\n",
       "      <td>윤활유</td>\n",
       "      <td>60000000</td>\n",
       "    </tr>\n",
       "    <tr>\n",
       "      <th>5</th>\n",
       "      <td>실리콘</td>\n",
       "      <td>4500000</td>\n",
       "    </tr>\n",
       "    <tr>\n",
       "      <th>1</th>\n",
       "      <td>백관</td>\n",
       "      <td>2464000</td>\n",
       "    </tr>\n",
       "    <tr>\n",
       "      <th>9</th>\n",
       "      <td>불화카리</td>\n",
       "      <td>1909000</td>\n",
       "    </tr>\n",
       "    <tr>\n",
       "      <th>2</th>\n",
       "      <td>절연판</td>\n",
       "      <td>1800000</td>\n",
       "    </tr>\n",
       "    <tr>\n",
       "      <th>14</th>\n",
       "      <td>BITE</td>\n",
       "      <td>1204000</td>\n",
       "    </tr>\n",
       "    <tr>\n",
       "      <th>0</th>\n",
       "      <td>ANGLE</td>\n",
       "      <td>672000</td>\n",
       "    </tr>\n",
       "    <tr>\n",
       "      <th>8</th>\n",
       "      <td>PAPER BRSH</td>\n",
       "      <td>520000</td>\n",
       "    </tr>\n",
       "    <tr>\n",
       "      <th>7</th>\n",
       "      <td>MOTOR</td>\n",
       "      <td>420000</td>\n",
       "    </tr>\n",
       "    <tr>\n",
       "      <th>3</th>\n",
       "      <td>P/Z O-RING</td>\n",
       "      <td>418000</td>\n",
       "    </tr>\n",
       "    <tr>\n",
       "      <th>4</th>\n",
       "      <td>알코올</td>\n",
       "      <td>304000</td>\n",
       "    </tr>\n",
       "    <tr>\n",
       "      <th>11</th>\n",
       "      <td>NUT</td>\n",
       "      <td>300000</td>\n",
       "    </tr>\n",
       "    <tr>\n",
       "      <th>13</th>\n",
       "      <td>소모품</td>\n",
       "      <td>110000</td>\n",
       "    </tr>\n",
       "  </tbody>\n",
       "</table>\n",
       "</div>"
      ],
      "text/plain": [
       "            품목        금액\n",
       "12         윤활유  60000000\n",
       "5          실리콘   4500000\n",
       "1           백관   2464000\n",
       "9         불화카리   1909000\n",
       "2          절연판   1800000\n",
       "14        BITE   1204000\n",
       "0        ANGLE    672000\n",
       "8   PAPER BRSH    520000\n",
       "7        MOTOR    420000\n",
       "3   P/Z O-RING    418000\n",
       "4          알코올    304000\n",
       "11         NUT    300000\n",
       "13         소모품    110000"
      ]
     },
     "execution_count": 38,
     "metadata": {},
     "output_type": "execute_result"
    }
   ],
   "source": [
    "# 4\n",
    "pd_p4 = pd_p3[ ['품목', '금액'] ]\n",
    "pd_p4"
   ]
  },
  {
   "cell_type": "code",
   "execution_count": 39,
   "metadata": {},
   "outputs": [
    {
     "data": {
      "text/html": [
       "<div>\n",
       "<style scoped>\n",
       "    .dataframe tbody tr th:only-of-type {\n",
       "        vertical-align: middle;\n",
       "    }\n",
       "\n",
       "    .dataframe tbody tr th {\n",
       "        vertical-align: top;\n",
       "    }\n",
       "\n",
       "    .dataframe thead th {\n",
       "        text-align: right;\n",
       "    }\n",
       "</style>\n",
       "<table border=\"1\" class=\"dataframe\">\n",
       "  <thead>\n",
       "    <tr style=\"text-align: right;\">\n",
       "      <th></th>\n",
       "      <th>날짜</th>\n",
       "      <th>품목</th>\n",
       "      <th>수량</th>\n",
       "      <th>금액</th>\n",
       "      <th>코드</th>\n",
       "    </tr>\n",
       "  </thead>\n",
       "  <tbody>\n",
       "    <tr>\n",
       "      <th>0</th>\n",
       "      <td>2019-08-23 00:00:00</td>\n",
       "      <td>ANGLE</td>\n",
       "      <td>21</td>\n",
       "      <td>672000</td>\n",
       "      <td></td>\n",
       "    </tr>\n",
       "    <tr>\n",
       "      <th>1</th>\n",
       "      <td>2019-09-09 00:00:00</td>\n",
       "      <td>백관</td>\n",
       "      <td>44</td>\n",
       "      <td>2464000</td>\n",
       "      <td>A1</td>\n",
       "    </tr>\n",
       "    <tr>\n",
       "      <th>2</th>\n",
       "      <td>2019-06-18 00:00:00</td>\n",
       "      <td>절연판</td>\n",
       "      <td>40</td>\n",
       "      <td>1800000</td>\n",
       "      <td>B1</td>\n",
       "    </tr>\n",
       "    <tr>\n",
       "      <th>3</th>\n",
       "      <td>2019-03-13 00:00:00</td>\n",
       "      <td>P/Z O-RING</td>\n",
       "      <td>11</td>\n",
       "      <td>418000</td>\n",
       "      <td></td>\n",
       "    </tr>\n",
       "    <tr>\n",
       "      <th>4</th>\n",
       "      <td>2019-05-11 00:00:00</td>\n",
       "      <td>알코올</td>\n",
       "      <td>38</td>\n",
       "      <td>304000</td>\n",
       "      <td></td>\n",
       "    </tr>\n",
       "    <tr>\n",
       "      <th>5</th>\n",
       "      <td>2019-06-28 00:00:00</td>\n",
       "      <td>실리콘</td>\n",
       "      <td>30</td>\n",
       "      <td>4500000</td>\n",
       "      <td>C1</td>\n",
       "    </tr>\n",
       "    <tr>\n",
       "      <th>6</th>\n",
       "      <td>2019-02-16 00:00:00</td>\n",
       "      <td>소모품</td>\n",
       "      <td>4</td>\n",
       "      <td>8800</td>\n",
       "      <td></td>\n",
       "    </tr>\n",
       "    <tr>\n",
       "      <th>7</th>\n",
       "      <td>2019-10-22 00:00:00</td>\n",
       "      <td>MOTOR</td>\n",
       "      <td>14</td>\n",
       "      <td>420000</td>\n",
       "      <td></td>\n",
       "    </tr>\n",
       "    <tr>\n",
       "      <th>8</th>\n",
       "      <td>2019-03-18 00:00:00</td>\n",
       "      <td>PAPER BRSH</td>\n",
       "      <td>13</td>\n",
       "      <td>520000</td>\n",
       "      <td></td>\n",
       "    </tr>\n",
       "    <tr>\n",
       "      <th>9</th>\n",
       "      <td>2019-07-17 00:00:00</td>\n",
       "      <td>불화카리</td>\n",
       "      <td>23</td>\n",
       "      <td>1909000</td>\n",
       "      <td></td>\n",
       "    </tr>\n",
       "    <tr>\n",
       "      <th>10</th>\n",
       "      <td>2019-07-23 00:00:00</td>\n",
       "      <td>마크펜</td>\n",
       "      <td>33</td>\n",
       "      <td>99000</td>\n",
       "      <td></td>\n",
       "    </tr>\n",
       "    <tr>\n",
       "      <th>11</th>\n",
       "      <td>2019-03-20 00:00:00</td>\n",
       "      <td>NUT</td>\n",
       "      <td>20</td>\n",
       "      <td>300000</td>\n",
       "      <td></td>\n",
       "    </tr>\n",
       "    <tr>\n",
       "      <th>12</th>\n",
       "      <td>2019-01-27 00:00:00</td>\n",
       "      <td>윤활유</td>\n",
       "      <td>30</td>\n",
       "      <td>60000000</td>\n",
       "      <td></td>\n",
       "    </tr>\n",
       "    <tr>\n",
       "      <th>13</th>\n",
       "      <td>2019-07-11 00:00:00</td>\n",
       "      <td>소모품</td>\n",
       "      <td>50</td>\n",
       "      <td>110000</td>\n",
       "      <td></td>\n",
       "    </tr>\n",
       "    <tr>\n",
       "      <th>14</th>\n",
       "      <td>2019-05-16 00:00:00</td>\n",
       "      <td>BITE</td>\n",
       "      <td>14</td>\n",
       "      <td>1204000</td>\n",
       "      <td></td>\n",
       "    </tr>\n",
       "  </tbody>\n",
       "</table>\n",
       "</div>"
      ],
      "text/plain": [
       "                     날짜          품목  수량        금액  코드\n",
       "0   2019-08-23 00:00:00       ANGLE  21    672000    \n",
       "1   2019-09-09 00:00:00          백관  44   2464000  A1\n",
       "2   2019-06-18 00:00:00         절연판  40   1800000  B1\n",
       "3   2019-03-13 00:00:00  P/Z O-RING  11    418000    \n",
       "4   2019-05-11 00:00:00         알코올  38    304000    \n",
       "5   2019-06-28 00:00:00         실리콘  30   4500000  C1\n",
       "6   2019-02-16 00:00:00         소모품   4      8800    \n",
       "7   2019-10-22 00:00:00       MOTOR  14    420000    \n",
       "8   2019-03-18 00:00:00  PAPER BRSH  13    520000    \n",
       "9   2019-07-17 00:00:00        불화카리  23   1909000    \n",
       "10  2019-07-23 00:00:00         마크펜  33     99000    \n",
       "11  2019-03-20 00:00:00         NUT  20    300000    \n",
       "12  2019-01-27 00:00:00         윤활유  30  60000000    \n",
       "13  2019-07-11 00:00:00         소모품  50    110000    \n",
       "14  2019-05-16 00:00:00        BITE  14   1204000    "
      ]
     },
     "execution_count": 39,
     "metadata": {},
     "output_type": "execute_result"
    }
   ],
   "source": [
    "# 5\n",
    "\n",
    "pd_p5 = pd.DataFrame( pd_p2, columns = ['날짜', '품목', '수량', '금액', '코드'] )\n",
    "pd_p5['코드'] = ''\n",
    "\n",
    "i = 0\n",
    "while i < len(pd_p5) :\n",
    "    if pd_p5['품목'][i] == '백관' :\n",
    "        pd_p5['코드'][i] = 'A1'\n",
    "    elif pd_p5['품목'][i] == '절연판' :\n",
    "        pd_p5['코드'][i] = 'B1'\n",
    "    elif pd_p5['품목'][i] == '실리콘' :\n",
    "        pd_p5['코드'][i] = 'C1'\n",
    "    i += 1\n",
    "\n",
    "pd_p5"
   ]
  },
  {
   "cell_type": "code",
   "execution_count": 40,
   "metadata": {},
   "outputs": [
    {
     "data": {
      "text/html": [
       "<div>\n",
       "<style scoped>\n",
       "    .dataframe tbody tr th:only-of-type {\n",
       "        vertical-align: middle;\n",
       "    }\n",
       "\n",
       "    .dataframe tbody tr th {\n",
       "        vertical-align: top;\n",
       "    }\n",
       "\n",
       "    .dataframe thead th {\n",
       "        text-align: right;\n",
       "    }\n",
       "</style>\n",
       "<table border=\"1\" class=\"dataframe\">\n",
       "  <thead>\n",
       "    <tr style=\"text-align: right;\">\n",
       "      <th></th>\n",
       "      <th>연번</th>\n",
       "      <th>학년</th>\n",
       "      <th>소속</th>\n",
       "      <th>분반</th>\n",
       "      <th>1. 튜터링 활동을 위한 자료준비 및 선행학습은 적절하였다.</th>\n",
       "      <th>2. 튜티의 학습 수준 및 특성을 파악하였다.</th>\n",
       "      <th>3. 활동 중 튜티와의 상호작용을 유도하였다.</th>\n",
       "      <th>4. 튜티의 학습 수준 및 특성을 고려하여 활동하였다.</th>\n",
       "      <th>5. 튜터링 활동 시간은 적절하였다.</th>\n",
       "      <th>6. 튜터링 활동 장소는 적절하였다.</th>\n",
       "      <th>...</th>\n",
       "      <th>11. 책임감이 증진되었다.</th>\n",
       "      <th>12. 협동심이 증진되었다.</th>\n",
       "      <th>13. 의사소통능력이 증진되었다.</th>\n",
       "      <th>14. 티칭스킬이 증진되었다.</th>\n",
       "      <th>15. 학교생활 적응능력이 증진되었다.</th>\n",
       "      <th>16. 효원튜터링 프로그램에 대해 만족한다.</th>\n",
       "      <th>팀활동좋았던점</th>\n",
       "      <th>팀활동 개선점</th>\n",
       "      <th>운영상 좋았던점</th>\n",
       "      <th>운영상 개선점</th>\n",
       "    </tr>\n",
       "  </thead>\n",
       "  <tbody>\n",
       "    <tr>\n",
       "      <th>0</th>\n",
       "      <td>1.0</td>\n",
       "      <td>4.0</td>\n",
       "      <td>7</td>\n",
       "      <td>NaN</td>\n",
       "      <td>5</td>\n",
       "      <td>5</td>\n",
       "      <td>5</td>\n",
       "      <td>5</td>\n",
       "      <td>5</td>\n",
       "      <td>5.0</td>\n",
       "      <td>...</td>\n",
       "      <td>5.000000</td>\n",
       "      <td>5.000000</td>\n",
       "      <td>5.000000</td>\n",
       "      <td>5.0</td>\n",
       "      <td>5.0</td>\n",
       "      <td>만족</td>\n",
       "      <td>의사소통 능력, 리더쉽 능력이 승진되었다.</td>\n",
       "      <td>NaN</td>\n",
       "      <td>보고서를 통해 피드백을 받을 수 있어 좋았다</td>\n",
       "      <td>NaN</td>\n",
       "    </tr>\n",
       "    <tr>\n",
       "      <th>1</th>\n",
       "      <td>2.0</td>\n",
       "      <td>4.0</td>\n",
       "      <td>4</td>\n",
       "      <td>NaN</td>\n",
       "      <td>3</td>\n",
       "      <td>4</td>\n",
       "      <td>4</td>\n",
       "      <td>4</td>\n",
       "      <td>4</td>\n",
       "      <td>4.0</td>\n",
       "      <td>...</td>\n",
       "      <td>4.000000</td>\n",
       "      <td>4.000000</td>\n",
       "      <td>4.000000</td>\n",
       "      <td>4.0</td>\n",
       "      <td>4.0</td>\n",
       "      <td>만족</td>\n",
       "      <td>다른과에서 복수전공을 하고오신 튜티를 만나 좋았다</td>\n",
       "      <td>더 열심히 임했으면 더 좋은 결과를 얻을 수 있었을 것 같다</td>\n",
       "      <td>주간 보고서를 제풀해야해서 주당 1회 활동이 의무적으로 이루어 진 것 같다</td>\n",
       "      <td>보고서 피드백에 대한 튜티의 보고서 제풀이 필요한 것 같다</td>\n",
       "    </tr>\n",
       "    <tr>\n",
       "      <th>2</th>\n",
       "      <td>3.0</td>\n",
       "      <td>4.0</td>\n",
       "      <td>5</td>\n",
       "      <td>NaN</td>\n",
       "      <td>3</td>\n",
       "      <td>4</td>\n",
       "      <td>4</td>\n",
       "      <td>5</td>\n",
       "      <td>4</td>\n",
       "      <td>4.0</td>\n",
       "      <td>...</td>\n",
       "      <td>4.000000</td>\n",
       "      <td>3.000000</td>\n",
       "      <td>4.000000</td>\n",
       "      <td>5.0</td>\n",
       "      <td>4.0</td>\n",
       "      <td>만족</td>\n",
       "      <td>무난하게 잘 완료</td>\n",
       "      <td>좀 더 다양한 학습활동을 했었으면</td>\n",
       "      <td>전공 과목을 대상으로 한다는 점에서 도움됨</td>\n",
       "      <td>오티때 추천할만한 학습법을 알려주면 좋을 것 같다</td>\n",
       "    </tr>\n",
       "    <tr>\n",
       "      <th>3</th>\n",
       "      <td>4.0</td>\n",
       "      <td>3.0</td>\n",
       "      <td>1</td>\n",
       "      <td>NaN</td>\n",
       "      <td>5</td>\n",
       "      <td>5</td>\n",
       "      <td>5</td>\n",
       "      <td>5</td>\n",
       "      <td>5</td>\n",
       "      <td>5.0</td>\n",
       "      <td>...</td>\n",
       "      <td>5.000000</td>\n",
       "      <td>5.000000</td>\n",
       "      <td>5.000000</td>\n",
       "      <td>5.0</td>\n",
       "      <td>5.0</td>\n",
       "      <td>만족</td>\n",
       "      <td>질의응답이 활발</td>\n",
       "      <td>시간배분을 잘해야 했다</td>\n",
       "      <td>설명을 잘해주셔서 좋았다</td>\n",
       "      <td>NaN</td>\n",
       "    </tr>\n",
       "    <tr>\n",
       "      <th>4</th>\n",
       "      <td>5.0</td>\n",
       "      <td>3.0</td>\n",
       "      <td>12</td>\n",
       "      <td>NaN</td>\n",
       "      <td>4</td>\n",
       "      <td>4</td>\n",
       "      <td>5</td>\n",
       "      <td>4</td>\n",
       "      <td>3</td>\n",
       "      <td>4.0</td>\n",
       "      <td>...</td>\n",
       "      <td>4.000000</td>\n",
       "      <td>3.000000</td>\n",
       "      <td>4.000000</td>\n",
       "      <td>5.0</td>\n",
       "      <td>5.0</td>\n",
       "      <td>만족</td>\n",
       "      <td>NaN</td>\n",
       "      <td>지루함을 개선 할 신선한 티칭방식이 필요</td>\n",
       "      <td>자율적인 튜터링 활동이어서 좋았다</td>\n",
       "      <td>NaN</td>\n",
       "    </tr>\n",
       "    <tr>\n",
       "      <th>...</th>\n",
       "      <td>...</td>\n",
       "      <td>...</td>\n",
       "      <td>...</td>\n",
       "      <td>...</td>\n",
       "      <td>...</td>\n",
       "      <td>...</td>\n",
       "      <td>...</td>\n",
       "      <td>...</td>\n",
       "      <td>...</td>\n",
       "      <td>...</td>\n",
       "      <td>...</td>\n",
       "      <td>...</td>\n",
       "      <td>...</td>\n",
       "      <td>...</td>\n",
       "      <td>...</td>\n",
       "      <td>...</td>\n",
       "      <td>...</td>\n",
       "      <td>...</td>\n",
       "      <td>...</td>\n",
       "      <td>...</td>\n",
       "      <td>...</td>\n",
       "    </tr>\n",
       "    <tr>\n",
       "      <th>73</th>\n",
       "      <td>NaN</td>\n",
       "      <td>NaN</td>\n",
       "      <td>11</td>\n",
       "      <td>NaN</td>\n",
       "      <td>0</td>\n",
       "      <td>0</td>\n",
       "      <td>3</td>\n",
       "      <td>21</td>\n",
       "      <td>34</td>\n",
       "      <td>NaN</td>\n",
       "      <td>...</td>\n",
       "      <td>0.051724</td>\n",
       "      <td>0.362069</td>\n",
       "      <td>0.586207</td>\n",
       "      <td>NaN</td>\n",
       "      <td>NaN</td>\n",
       "      <td>NaN</td>\n",
       "      <td>NaN</td>\n",
       "      <td>NaN</td>\n",
       "      <td>NaN</td>\n",
       "      <td>NaN</td>\n",
       "    </tr>\n",
       "    <tr>\n",
       "      <th>74</th>\n",
       "      <td>NaN</td>\n",
       "      <td>NaN</td>\n",
       "      <td>12</td>\n",
       "      <td>NaN</td>\n",
       "      <td>0</td>\n",
       "      <td>0</td>\n",
       "      <td>9</td>\n",
       "      <td>24</td>\n",
       "      <td>25</td>\n",
       "      <td>NaN</td>\n",
       "      <td>...</td>\n",
       "      <td>0.155172</td>\n",
       "      <td>0.413793</td>\n",
       "      <td>0.431034</td>\n",
       "      <td>NaN</td>\n",
       "      <td>NaN</td>\n",
       "      <td>NaN</td>\n",
       "      <td>NaN</td>\n",
       "      <td>NaN</td>\n",
       "      <td>NaN</td>\n",
       "      <td>NaN</td>\n",
       "    </tr>\n",
       "    <tr>\n",
       "      <th>75</th>\n",
       "      <td>NaN</td>\n",
       "      <td>NaN</td>\n",
       "      <td>13</td>\n",
       "      <td>NaN</td>\n",
       "      <td>0</td>\n",
       "      <td>0</td>\n",
       "      <td>3</td>\n",
       "      <td>21</td>\n",
       "      <td>34</td>\n",
       "      <td>NaN</td>\n",
       "      <td>...</td>\n",
       "      <td>0.051724</td>\n",
       "      <td>0.362069</td>\n",
       "      <td>0.586207</td>\n",
       "      <td>NaN</td>\n",
       "      <td>NaN</td>\n",
       "      <td>NaN</td>\n",
       "      <td>NaN</td>\n",
       "      <td>NaN</td>\n",
       "      <td>NaN</td>\n",
       "      <td>NaN</td>\n",
       "    </tr>\n",
       "    <tr>\n",
       "      <th>76</th>\n",
       "      <td>NaN</td>\n",
       "      <td>NaN</td>\n",
       "      <td>14</td>\n",
       "      <td>NaN</td>\n",
       "      <td>0</td>\n",
       "      <td>0</td>\n",
       "      <td>3</td>\n",
       "      <td>25</td>\n",
       "      <td>30</td>\n",
       "      <td>NaN</td>\n",
       "      <td>...</td>\n",
       "      <td>0.051724</td>\n",
       "      <td>0.431034</td>\n",
       "      <td>0.517241</td>\n",
       "      <td>NaN</td>\n",
       "      <td>NaN</td>\n",
       "      <td>NaN</td>\n",
       "      <td>NaN</td>\n",
       "      <td>NaN</td>\n",
       "      <td>NaN</td>\n",
       "      <td>NaN</td>\n",
       "    </tr>\n",
       "    <tr>\n",
       "      <th>77</th>\n",
       "      <td>NaN</td>\n",
       "      <td>NaN</td>\n",
       "      <td>15</td>\n",
       "      <td>NaN</td>\n",
       "      <td>0</td>\n",
       "      <td>3</td>\n",
       "      <td>7</td>\n",
       "      <td>24</td>\n",
       "      <td>24</td>\n",
       "      <td>NaN</td>\n",
       "      <td>...</td>\n",
       "      <td>0.120690</td>\n",
       "      <td>0.413793</td>\n",
       "      <td>0.413793</td>\n",
       "      <td>NaN</td>\n",
       "      <td>NaN</td>\n",
       "      <td>NaN</td>\n",
       "      <td>NaN</td>\n",
       "      <td>NaN</td>\n",
       "      <td>NaN</td>\n",
       "      <td>NaN</td>\n",
       "    </tr>\n",
       "  </tbody>\n",
       "</table>\n",
       "<p>78 rows × 24 columns</p>\n",
       "</div>"
      ],
      "text/plain": [
       "     연번   학년  소속  분반 1. 튜터링 활동을 위한 자료준비 및 선행학습은 적절하였다.  \\\n",
       "0   1.0  4.0   7 NaN                                 5   \n",
       "1   2.0  4.0   4 NaN                                 3   \n",
       "2   3.0  4.0   5 NaN                                 3   \n",
       "3   4.0  3.0   1 NaN                                 5   \n",
       "4   5.0  3.0  12 NaN                                 4   \n",
       "..  ...  ...  ..  ..                               ...   \n",
       "73  NaN  NaN  11 NaN                                 0   \n",
       "74  NaN  NaN  12 NaN                                 0   \n",
       "75  NaN  NaN  13 NaN                                 0   \n",
       "76  NaN  NaN  14 NaN                                 0   \n",
       "77  NaN  NaN  15 NaN                                 0   \n",
       "\n",
       "   2. 튜티의 학습 수준 및 특성을 파악하였다. 3. 활동 중 튜티와의 상호작용을 유도하였다.  \\\n",
       "0                          5                         5   \n",
       "1                          4                         4   \n",
       "2                          4                         4   \n",
       "3                          5                         5   \n",
       "4                          4                         5   \n",
       "..                       ...                       ...   \n",
       "73                         0                         3   \n",
       "74                         0                         9   \n",
       "75                         0                         3   \n",
       "76                         0                         3   \n",
       "77                         3                         7   \n",
       "\n",
       "   4. 튜티의 학습 수준 및 특성을 고려하여 활동하였다. 5. 튜터링 활동 시간은 적절하였다.  6. 튜터링 활동 장소는 적절하였다.  \\\n",
       "0                               5                    5                   5.0   \n",
       "1                               4                    4                   4.0   \n",
       "2                               5                    4                   4.0   \n",
       "3                               5                    5                   5.0   \n",
       "4                               4                    3                   4.0   \n",
       "..                            ...                  ...                   ...   \n",
       "73                             21                   34                   NaN   \n",
       "74                             24                   25                   NaN   \n",
       "75                             21                   34                   NaN   \n",
       "76                             25                   30                   NaN   \n",
       "77                             24                   24                   NaN   \n",
       "\n",
       "    ...  11. 책임감이 증진되었다.  12. 협동심이 증진되었다.  13. 의사소통능력이 증진되었다.  \\\n",
       "0   ...         5.000000         5.000000            5.000000   \n",
       "1   ...         4.000000         4.000000            4.000000   \n",
       "2   ...         4.000000         3.000000            4.000000   \n",
       "3   ...         5.000000         5.000000            5.000000   \n",
       "4   ...         4.000000         3.000000            4.000000   \n",
       "..  ...              ...              ...                 ...   \n",
       "73  ...         0.051724         0.362069            0.586207   \n",
       "74  ...         0.155172         0.413793            0.431034   \n",
       "75  ...         0.051724         0.362069            0.586207   \n",
       "76  ...         0.051724         0.431034            0.517241   \n",
       "77  ...         0.120690         0.413793            0.413793   \n",
       "\n",
       "    14. 티칭스킬이 증진되었다.  15. 학교생활 적응능력이 증진되었다.  16. 효원튜터링 프로그램에 대해 만족한다.  \\\n",
       "0                5.0                    5.0                        만족   \n",
       "1                4.0                    4.0                        만족   \n",
       "2                5.0                    4.0                        만족   \n",
       "3                5.0                    5.0                        만족   \n",
       "4                5.0                    5.0                        만족   \n",
       "..               ...                    ...                       ...   \n",
       "73               NaN                    NaN                       NaN   \n",
       "74               NaN                    NaN                       NaN   \n",
       "75               NaN                    NaN                       NaN   \n",
       "76               NaN                    NaN                       NaN   \n",
       "77               NaN                    NaN                       NaN   \n",
       "\n",
       "                        팀활동좋았던점                            팀활동 개선점  \\\n",
       "0       의사소통 능력, 리더쉽 능력이 승진되었다.                                NaN   \n",
       "1   다른과에서 복수전공을 하고오신 튜티를 만나 좋았다  더 열심히 임했으면 더 좋은 결과를 얻을 수 있었을 것 같다   \n",
       "2                     무난하게 잘 완료                 좀 더 다양한 학습활동을 했었으면   \n",
       "3                      질의응답이 활발                       시간배분을 잘해야 했다   \n",
       "4                           NaN             지루함을 개선 할 신선한 티칭방식이 필요   \n",
       "..                          ...                                ...   \n",
       "73                          NaN                                NaN   \n",
       "74                          NaN                                NaN   \n",
       "75                          NaN                                NaN   \n",
       "76                          NaN                                NaN   \n",
       "77                          NaN                                NaN   \n",
       "\n",
       "                                     운영상 좋았던점  \\\n",
       "0                    보고서를 통해 피드백을 받을 수 있어 좋았다   \n",
       "1   주간 보고서를 제풀해야해서 주당 1회 활동이 의무적으로 이루어 진 것 같다   \n",
       "2                     전공 과목을 대상으로 한다는 점에서 도움됨   \n",
       "3                               설명을 잘해주셔서 좋았다   \n",
       "4                          자율적인 튜터링 활동이어서 좋았다   \n",
       "..                                        ...   \n",
       "73                                        NaN   \n",
       "74                                        NaN   \n",
       "75                                        NaN   \n",
       "76                                        NaN   \n",
       "77                                        NaN   \n",
       "\n",
       "                             운영상 개선점  \n",
       "0                                NaN  \n",
       "1   보고서 피드백에 대한 튜티의 보고서 제풀이 필요한 것 같다  \n",
       "2        오티때 추천할만한 학습법을 알려주면 좋을 것 같다  \n",
       "3                                NaN  \n",
       "4                                NaN  \n",
       "..                               ...  \n",
       "73                               NaN  \n",
       "74                               NaN  \n",
       "75                               NaN  \n",
       "76                               NaN  \n",
       "77                               NaN  \n",
       "\n",
       "[78 rows x 24 columns]"
      ]
     },
     "execution_count": 40,
     "metadata": {},
     "output_type": "execute_result"
    }
   ],
   "source": [
    "# 6\n",
    "\n",
    "data1 = pd.read_excel('.\\\\sampleFile\\\\학생_만족도_조사_실습.xlsx')\n",
    "data1"
   ]
  },
  {
   "cell_type": "code",
   "execution_count": 41,
   "metadata": {},
   "outputs": [
    {
     "data": {
      "text/html": [
       "<div>\n",
       "<style scoped>\n",
       "    .dataframe tbody tr th:only-of-type {\n",
       "        vertical-align: middle;\n",
       "    }\n",
       "\n",
       "    .dataframe tbody tr th {\n",
       "        vertical-align: top;\n",
       "    }\n",
       "\n",
       "    .dataframe thead th {\n",
       "        text-align: right;\n",
       "    }\n",
       "</style>\n",
       "<table border=\"1\" class=\"dataframe\">\n",
       "  <thead>\n",
       "    <tr style=\"text-align: right;\">\n",
       "      <th></th>\n",
       "      <th>팀활동좋았던점</th>\n",
       "      <th>운영상 좋았던점</th>\n",
       "    </tr>\n",
       "  </thead>\n",
       "  <tbody>\n",
       "    <tr>\n",
       "      <th>0</th>\n",
       "      <td>의사소통 능력, 리더쉽 능력이 승진되었다.</td>\n",
       "      <td>보고서를 통해 피드백을 받을 수 있어 좋았다</td>\n",
       "    </tr>\n",
       "    <tr>\n",
       "      <th>1</th>\n",
       "      <td>다른과에서 복수전공을 하고오신 튜티를 만나 좋았다</td>\n",
       "      <td>주간 보고서를 제풀해야해서 주당 1회 활동이 의무적으로 이루어 진 것 같다</td>\n",
       "    </tr>\n",
       "    <tr>\n",
       "      <th>2</th>\n",
       "      <td>무난하게 잘 완료</td>\n",
       "      <td>전공 과목을 대상으로 한다는 점에서 도움됨</td>\n",
       "    </tr>\n",
       "    <tr>\n",
       "      <th>3</th>\n",
       "      <td>질의응답이 활발</td>\n",
       "      <td>설명을 잘해주셔서 좋았다</td>\n",
       "    </tr>\n",
       "    <tr>\n",
       "      <th>4</th>\n",
       "      <td>NaN</td>\n",
       "      <td>자율적인 튜터링 활동이어서 좋았다</td>\n",
       "    </tr>\n",
       "    <tr>\n",
       "      <th>...</th>\n",
       "      <td>...</td>\n",
       "      <td>...</td>\n",
       "    </tr>\n",
       "    <tr>\n",
       "      <th>73</th>\n",
       "      <td>NaN</td>\n",
       "      <td>NaN</td>\n",
       "    </tr>\n",
       "    <tr>\n",
       "      <th>74</th>\n",
       "      <td>NaN</td>\n",
       "      <td>NaN</td>\n",
       "    </tr>\n",
       "    <tr>\n",
       "      <th>75</th>\n",
       "      <td>NaN</td>\n",
       "      <td>NaN</td>\n",
       "    </tr>\n",
       "    <tr>\n",
       "      <th>76</th>\n",
       "      <td>NaN</td>\n",
       "      <td>NaN</td>\n",
       "    </tr>\n",
       "    <tr>\n",
       "      <th>77</th>\n",
       "      <td>NaN</td>\n",
       "      <td>NaN</td>\n",
       "    </tr>\n",
       "  </tbody>\n",
       "</table>\n",
       "<p>78 rows × 2 columns</p>\n",
       "</div>"
      ],
      "text/plain": [
       "                        팀활동좋았던점                                   운영상 좋았던점\n",
       "0       의사소통 능력, 리더쉽 능력이 승진되었다.                   보고서를 통해 피드백을 받을 수 있어 좋았다\n",
       "1   다른과에서 복수전공을 하고오신 튜티를 만나 좋았다  주간 보고서를 제풀해야해서 주당 1회 활동이 의무적으로 이루어 진 것 같다\n",
       "2                     무난하게 잘 완료                    전공 과목을 대상으로 한다는 점에서 도움됨\n",
       "3                      질의응답이 활발                              설명을 잘해주셔서 좋았다\n",
       "4                           NaN                         자율적인 튜터링 활동이어서 좋았다\n",
       "..                          ...                                        ...\n",
       "73                          NaN                                        NaN\n",
       "74                          NaN                                        NaN\n",
       "75                          NaN                                        NaN\n",
       "76                          NaN                                        NaN\n",
       "77                          NaN                                        NaN\n",
       "\n",
       "[78 rows x 2 columns]"
      ]
     },
     "execution_count": 41,
     "metadata": {},
     "output_type": "execute_result"
    }
   ],
   "source": [
    "# 7\n",
    "\n",
    "data2 = pd.DataFrame(data1, columns=['팀활동좋았던점', '운영상 좋았던점'])\n",
    "data2"
   ]
  },
  {
   "cell_type": "code",
   "execution_count": null,
   "metadata": {},
   "outputs": [],
   "source": []
  }
 ],
 "metadata": {
  "kernelspec": {
   "display_name": "Python 3",
   "language": "python",
   "name": "python3"
  },
  "language_info": {
   "codemirror_mode": {
    "name": "ipython",
    "version": 3
   },
   "file_extension": ".py",
   "mimetype": "text/x-python",
   "name": "python",
   "nbconvert_exporter": "python",
   "pygments_lexer": "ipython3",
   "version": "3.5.4"
  }
 },
 "nbformat": 4,
 "nbformat_minor": 4
}
