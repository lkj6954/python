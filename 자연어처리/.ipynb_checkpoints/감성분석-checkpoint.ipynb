{
 "cells": [
  {
   "cell_type": "code",
   "execution_count": 1,
   "metadata": {},
   "outputs": [],
   "source": [
    "# 데이터 로딩\n",
    "def read_data(filename, encoding='cp949'):                # 읽기 함수 정의\n",
    "  with open(filename, 'r', encoding=encoding) as f:\n",
    "    data = [line.split('\\t') for line in f.read().splitlines()] # postive.txt와 negative.txt 에는 탭이 없으므로 그 줄 전체가 들어간다\n",
    "    data = data[1:]                 # txt 파일의 헤더(id document label)는 제외하기\n",
    "  return data\n",
    "\n",
    "def write_data(data, filename, encoding='cp949'):         # 쓰기 함수도 정의\n",
    "  with open(filename, 'w', encoding=encoding) as f:\n",
    "    f.write(data)\n",
    "\n",
    "data = read_data('C:/Users/LeeKyoungJun/Desktop/데이터캠퍼스/pytest/ratings_small.txt', encoding='cp949')         # 전체파일은 ratings.txt (긍정 1만, 부정 1만)"
   ]
  },
  {
   "cell_type": "code",
   "execution_count": 2,
   "metadata": {},
   "outputs": [
    {
     "name": "stdout",
     "output_type": "stream",
     "text": [
      "500\n"
     ]
    }
   ],
   "source": [
    "print(len(data))"
   ]
  },
  {
   "cell_type": "code",
   "execution_count": 3,
   "metadata": {},
   "outputs": [
    {
     "name": "stdout",
     "output_type": "stream",
     "text": [
      "filepath:  C:\\Anaconda3\\lib\\site-packages\n",
      "classpath:  C:\\Anaconda3\\lib\\site-packages\\rhinoMorph/lib/rhino.jar\n",
      "RHINO started!\n"
     ]
    }
   ],
   "source": [
    "# 전체 데이터 형태소 분석\n",
    "import rhinoMorph\n",
    "rn = rhinoMorph.startRhino()\n",
    "\n",
    "morphed_data = ''\n",
    "for data_each in data:\n",
    "  morphed_data_each = rhinoMorph.onlyMorph_list(rn, data_each[1], pos=['NNG', 'NNP', 'VV', 'VA', 'XR', 'IC', 'MM', 'MAG', 'MAJ'])\n",
    "  joined_data_each = ' '.join(morphed_data_each)\t\t\t        # 문자열을 하나로 연결\n",
    "  if joined_data_each:                                      \t# 내용이 있는 경우만 저장하게 함\n",
    "    morphed_data += data_each[0]+\"\\t\"+joined_data_each+\"\\t\"+data_each[2]+\"\\n\"\n",
    "    \n",
    "# 형태소 분석된 파일 저장\n",
    "write_data(morphed_data, 'ratings_morphed.txt', encoding='cp949')"
   ]
  },
  {
   "cell_type": "code",
   "execution_count": 5,
   "metadata": {},
   "outputs": [
    {
     "name": "stdout",
     "output_type": "stream",
     "text": [
      "500\n",
      "3\n",
      "['8112052', '어릴때보고 지금다시봐도 재밌어요ㅋㅋ', '1']\n"
     ]
    }
   ],
   "source": [
    "# 형태소 분석된 데이터 로딩\n",
    "\n",
    "print(len(data))   \n",
    "print(len(data[0])) \n",
    "print(data[0])"
   ]
  },
  {
   "cell_type": "code",
   "execution_count": 7,
   "metadata": {},
   "outputs": [],
   "source": [
    "# 감정사전 읽기\n",
    "\n",
    "data_id = [line[0] for line in data]       \t\t# 데이터 id\n",
    "data_text = [line[1] for line in data]     \t\t# 데이터 본문\n",
    "data_senti = [line[2] for line in data]    \t\t# 데이터 긍부정 부분\n",
    "\n",
    "positive = read_data('C:/Users/LeeKyoungJun/Desktop/데이터캠퍼스/pytest/positive.txt')\t\t      # 긍정 감정사전 읽기\n",
    "negative = read_data('C:/Users/LeeKyoungJun/Desktop/데이터캠퍼스/pytest/negative.txt')\t\t      # 부정 감정사전 읽기\n",
    "                     \n",
    "pos_found = []                                # 각 문장에서 발견될 긍정어의 개수 \n",
    "neg_found = []                                # 각 문장에서 발견될 부정어의 개수 "
   ]
  },
  {
   "cell_type": "code",
   "execution_count": 8,
   "metadata": {},
   "outputs": [
    {
     "name": "stdout",
     "output_type": "stream",
     "text": [
      "<긍정 단어 결과>\n",
      "[0, 0, 0, 0, 0, 0, 1, 0, 0, 0, 0, 0, 0, 0, 0, 0, 0, 1, 0, 0, 0, 0, 0, 0, 0, 0, 0, 0, 0, 0, 0, 0, 0, 0, 0, 0, 0, 0, 0, 0, 0, 0, 0, 0, 1, 0, 0, 0, 0, 0, 0, 0, 0, 0, 1, 0, 0, 0, 0, 0, 0, 0, 0, 0, 0, 0, 0, 0, 0, 0, 0, 0, 1, 0, 0, 0, 0, 0, 0, 0, 2, 0, 0, 0, 0, 0, 0, 0, 0, 0, 0, 0, 0, 0, 0, 1, 0, 0, 0, 1, 0, 0, 0, 0, 0, 0, 0, 0, 0, 0, 0, 0, 0, 0, 0, 0, 0, 0, 0, 0, 0, 0, 0, 0, 1, 0, 0, 0, 0, 0, 0, 0, 0, 1, 0, 0, 0, 0, 0, 0, 1, 0, 0, 0, 0, 1, 0, 0, 2, 0, 0, 1, 0, 0, 0, 0, 0, 0, 0, 1, 0, 0, 0, 0, 0, 0, 0, 0, 0, 0, 0, 0, 0, 0, 0, 0, 0, 0, 0, 1, 0, 0, 0, 0, 0, 0, 0, 0, 1, 0, 0, 0, 1, 0, 0, 0, 0, 0, 0, 1, 0, 1, 0, 0, 0, 0, 0, 0, 0, 0, 0, 0, 0, 0, 0, 0, 0, 0, 0, 0, 0, 0, 0, 0, 0, 0, 0, 0, 0, 0, 0, 0, 0, 0, 0, 0, 0, 0, 0, 0, 0, 0, 0, 0, 0, 0, 0, 0, 0, 0, 0, 0, 0, 0, 0, 0, 0, 0, 0, 0, 0, 0, 0, 0, 0, 0, 1, 0, 0, 0, 1, 0, 0, 0, 0, 0, 0, 0, 0, 0, 0, 0, 0, 0, 0, 0, 0, 0, 0, 0, 0, 0, 0, 0, 0, 0, 0, 0, 0, 0, 0, 0, 1, 0, 0, 0, 0, 0, 0, 0, 0, 0, 0, 0, 0, 0, 0, 0, 0, 0, 0, 1, 0, 0, 0, 0, 0, 0, 0, 0, 0, 0, 0, 0, 0, 0, 0, 0, 0, 0, 0, 0, 0, 1, 0, 0, 0, 0, 0, 0, 0, 0, 0, 0, 0, 0, 0, 0, 0, 0, 0, 1, 0, 0, 0, 0, 0, 0, 0, 0, 0, 0, 0, 0, 0, 0, 0, 0, 0, 0, 0, 0, 0, 0, 0, 0, 0, 0, 0, 0, 0, 0, 0, 0, 1, 0, 0, 0, 0, 0, 0, 0, 0, 0, 0, 0, 0, 0, 0, 0, 0, 0, 0, 0, 0, 0, 0, 0, 0, 0, 0, 0, 1, 0, 0, 0, 0, 0, 0, 0, 0, 0, 0, 0, 0, 0, 0, 0, 0, 0, 0, 0, 0, 0, 0, 0, 0, 0, 0, 0, 0, 0, 0, 0, 0, 0, 0, 0, 0, 0, 0, 0, 0, 0, 0, 0, 0, 1, 0, 0, 0, 0, 0, 0, 0, 0, 0, 0, 0, 0, 0, 0, 0, 0, 0, 0, 0, 0, 0, 0, 0, 0, 0, 0, 0, 0, 0, 0, 0, 0]\n",
      "<부정 단어 결과>\n",
      "[0, 0, 0, 0, 0, 0, 0, 0, 0, 0, 0, 0, 0, 0, 0, 0, 0, 0, 0, 0, 0, 0, 0, 0, 0, 0, 0, 0, 0, 0, 0, 0, 0, 0, 0, 1, 0, 0, 0, 0, 0, 0, 0, 0, 0, 1, 0, 0, 1, 0, 0, 0, 0, 0, 0, 0, 1, 0, 0, 0, 0, 0, 0, 1, 0, 0, 0, 0, 0, 0, 0, 0, 0, 0, 0, 1, 0, 0, 1, 0, 1, 0, 0, 0, 0, 0, 0, 0, 0, 1, 0, 0, 0, 0, 0, 0, 0, 0, 0, 0, 0, 0, 0, 0, 0, 0, 0, 1, 0, 0, 0, 0, 0, 0, 0, 0, 0, 0, 0, 1, 0, 0, 1, 0, 0, 0, 0, 0, 0, 1, 0, 0, 0, 0, 0, 0, 0, 0, 0, 0, 1, 0, 0, 0, 0, 1, 0, 0, 1, 0, 2, 0, 1, 0, 0, 0, 0, 0, 0, 0, 0, 0, 0, 0, 0, 0, 0, 0, 0, 0, 0, 0, 1, 0, 0, 0, 0, 0, 0, 0, 0, 0, 0, 0, 0, 0, 0, 0, 0, 0, 0, 0, 0, 0, 0, 1, 0, 0, 0, 1, 0, 0, 0, 0, 0, 0, 0, 1, 0, 0, 1, 0, 0, 0, 0, 0, 0, 0, 0, 0, 0, 0, 0, 0, 0, 0, 0, 0, 0, 1, 1, 0, 0, 1, 1, 0, 0, 0, 0, 0, 0, 0, 0, 1, 0, 1, 0, 1, 0, 0, 0, 0, 0, 1, 0, 0, 1, 0, 0, 0, 0, 0, 0, 0, 0, 0, 0, 0, 0, 0, 1, 0, 0, 0, 0, 0, 0, 0, 0, 0, 1, 0, 0, 0, 0, 0, 0, 0, 1, 0, 0, 0, 0, 0, 0, 0, 0, 0, 0, 0, 0, 0, 0, 0, 0, 0, 0, 0, 0, 0, 0, 0, 0, 0, 0, 0, 0, 0, 0, 0, 0, 1, 0, 0, 0, 0, 0, 0, 0, 0, 0, 0, 0, 0, 0, 1, 1, 0, 0, 0, 0, 1, 0, 0, 0, 1, 0, 2, 0, 0, 0, 0, 0, 0, 0, 0, 0, 0, 0, 3, 0, 0, 1, 0, 0, 0, 0, 0, 0, 0, 0, 0, 0, 1, 1, 2, 0, 0, 0, 0, 0, 0, 1, 0, 1, 0, 1, 0, 0, 0, 0, 0, 0, 0, 0, 0, 0, 0, 0, 0, 0, 0, 0, 0, 0, 0, 0, 0, 0, 1, 0, 0, 0, 0, 0, 0, 0, 0, 0, 0, 0, 0, 1, 0, 0, 0, 0, 0, 0, 0, 0, 0, 0, 0, 0, 0, 0, 0, 0, 0, 0, 0, 0, 0, 0, 1, 0, 0, 0, 1, 0, 0, 0, 0, 0, 0, 0, 0, 0, 0, 0, 0, 0, 0, 0, 0, 0, 0, 0, 0, 0, 0, 0, 0, 0, 0, 0, 0, 0, 0, 0, 0, 0, 1, 0, 1, 0, 0, 0, 0, 0, 1, 0, 0, 0, 0, 0, 0, 0, 0]\n"
     ]
    }
   ],
   "source": [
    "# 감정단어 파악\n",
    "\n",
    "# 긍정, 부정 두 번 써야되니까 함수화시켰다고 하심\n",
    "def cntWordInLine(data, senti):             # data : 위에서 이미 잘라지고 각 원소가 내용으로 이루어진 리스트\n",
    "  senti_found = []                          # senti : 감정단어 리스트\n",
    "  for onedata in data:\n",
    "    oneline_word = onedata.split(' ')       # 한 줄의 데이터를 공백 단위로 분리하여 리스트로 저장\n",
    "    senti_temp = 0\n",
    "    for sentiword in senti:                 # oneline_word : 공백을 기준으로 나누어진 단어들이 이중(?)리스트로 이루어짐\n",
    "      if sentiword[0] in oneline_word:      # posword[0] 하여 리스트를 문자열로 추출\n",
    "        senti_temp += 1                     # 현재의 감정단어와 일치하면 숫자를 하나 올려 줌 ('하나의 리스트에서' 중복은 계산 안 함. 왜냐하면 ㅋㅋㅋㅋㅋ와 같은 경우들이 많기 때문임)\n",
    "    senti_found.append(senti_temp)          # 현재의 줄에서 찾은 감성단어의 숫자를 해당 위치에 저장\n",
    "  return senti_found\n",
    "      \n",
    "      \n",
    "data_senti_poscnt = cntWordInLine(data_text, positive)      # 발견된 긍정 단어의 숫자 파악\n",
    "data_senti_negcnt = cntWordInLine(data_text, negative)      # 발견된 부정 단어의 숫자 파악\n",
    "\n",
    "print(\"<긍정 단어 결과>\")\n",
    "print(data_senti_poscnt)\n",
    "print(\"<부정 단어 결과>\")\n",
    "print(data_senti_negcnt)"
   ]
  },
  {
   "cell_type": "code",
   "execution_count": 9,
   "metadata": {},
   "outputs": [],
   "source": [
    "# 감정점수 계산\n",
    "# Pandas 데이터프레임으로 저장\n",
    "import pandas as pd\n",
    "newdata = pd.DataFrame({'id':data_id, 'text':data_text, 'original':data_senti, \n",
    "                        'pos':data_senti_poscnt, 'neg':data_senti_negcnt})\n",
    "\n",
    "senti_score = newdata['pos'] - newdata['neg']      # 긍정개수에서 부정개수를 뺌\n",
    "newdata['senti_score'] = senti_score               # 그 수를 senti_score 컬럼에 저장 \n",
    "\n",
    "newdata.loc[newdata.senti_score > 0, 'new'] = 1    # 새로운 긍부정 기호\n",
    "newdata.loc[newdata.senti_score <= 0, 'new'] = 0   # 새로운 긍부정 기호\n",
    "\n",
    "# 처음에 기록된 긍부정과 새로 계산된 긍부정이 같은지 여부를 matched 컬럼에 저장\n",
    "# original 컬럼은 문자로 되어 있으므로 숫자로 변환 뒤 비교 \n",
    "newdata.loc[pd.to_numeric(newdata.original) == newdata.new, 'matched'] = 'True'\n",
    "newdata.loc[pd.to_numeric(newdata.original) != newdata.new, 'matched'] = 'False'"
   ]
  },
  {
   "cell_type": "code",
   "execution_count": 10,
   "metadata": {},
   "outputs": [
    {
     "name": "stdout",
     "output_type": "stream",
     "text": [
      "52.2\n"
     ]
    }
   ],
   "source": [
    "# 원점수와 비교 및 저장\n",
    "\n",
    "# ?\n",
    "score = newdata.matched.str.count('True').sum() / (newdata.matched.str.count('True').sum() + newdata.matched.str.count('False').sum()) * 100\n",
    "print(score)\n",
    "\n",
    "newdata.to_csv('newfile.csv', sep=',', encoding='cp949', index=False) \t# csv 저장\n",
    "newdata.to_csv('newfile2.txt', sep='\\t', encoding='cp949', index=False) \t# 또는 txt 저장"
   ]
  },
  {
   "cell_type": "code",
   "execution_count": 11,
   "metadata": {},
   "outputs": [],
   "source": [
    "# 시그모이드 점수 계산\n",
    "import math\n",
    "def sigmoid(x):\n",
    "  return 1 / (1 + math.exp(-x))\n",
    "\n",
    "newdata['sigmoid'] = newdata.senti_score.apply(sigmoid)"
   ]
  },
  {
   "cell_type": "code",
   "execution_count": 12,
   "metadata": {},
   "outputs": [
    {
     "name": "stdout",
     "output_type": "stream",
     "text": [
      "         id                                               text original  pos  \\\n",
      "0   8112052                                어릴때보고 지금다시봐도 재밌어요ㅋㅋ        1    0   \n",
      "1   8132799  \"디자인을 배우는 학생으로, 외국디자이너와 그들이 일군 전통을 통해 발전해가는 문화...        1    0   \n",
      "2   4655635               폴리스스토리 시리즈는 1부터 뉴까지 버릴께 하나도 없음.. 최고.        1    0   \n",
      "3   9251303  와.. 연기가 진짜 개쩔구나.. 지루할거라고 생각했는데 몰입해서 봤다.. 그래 이런...        1    0   \n",
      "4  10067386                        안개 자욱한 밤하늘에 떠 있는 초승달 같은 영화.        1    0   \n",
      "\n",
      "   neg  senti_score  new matched  sigmoid  \n",
      "0    0            0  0.0   False      0.5  \n",
      "1    0            0  0.0   False      0.5  \n",
      "2    0            0  0.0   False      0.5  \n",
      "3    0            0  0.0   False      0.5  \n",
      "4    0            0  0.0   False      0.5  \n"
     ]
    }
   ],
   "source": [
    "# 결과 확인\n",
    "pd.set_option('display.max_columns', 10)     # 보여지는 컬럼 수 조정\n",
    "print(newdata.iloc[:5, :])"
   ]
  },
  {
   "cell_type": "code",
   "execution_count": null,
   "metadata": {},
   "outputs": [],
   "source": []
  }
 ],
 "metadata": {
  "kernelspec": {
   "display_name": "Python 3",
   "language": "python",
   "name": "python3"
  },
  "language_info": {
   "codemirror_mode": {
    "name": "ipython",
    "version": 3
   },
   "file_extension": ".py",
   "mimetype": "text/x-python",
   "name": "python",
   "nbconvert_exporter": "python",
   "pygments_lexer": "ipython3",
   "version": "3.7.6"
  }
 },
 "nbformat": 4,
 "nbformat_minor": 4
}
