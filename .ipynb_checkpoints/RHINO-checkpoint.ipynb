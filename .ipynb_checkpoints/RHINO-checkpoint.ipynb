{
 "cells": [
  {
   "cell_type": "code",
   "execution_count": 2,
   "metadata": {},
   "outputs": [
    {
     "name": "stdout",
     "output_type": "stream",
     "text": [
      "filepath:  c:\\python 3.5\\lib\\site-packages\n",
      "classpath:  c:\\python 3.5\\lib\\site-packages\\rhinoMorph/lib/rhino.jar\n",
      "JVM is already started~\n",
      "RHINO started!\n"
     ]
    }
   ],
   "source": [
    "import rhinoMorph\n",
    "rn = rhinoMorph.startRhino()"
   ]
  },
  {
   "cell_type": "markdown",
   "metadata": {},
   "source": [
    "## 사용 1 : 모든 형태소 보이기"
   ]
  },
  {
   "cell_type": "code",
   "execution_count": 5,
   "metadata": {},
   "outputs": [
    {
     "name": "stdout",
     "output_type": "stream",
     "text": [
      "1. 형태소 분석 결과:  ['밤새', '도록', '모니터', '에', '튀기', 'ㄴ', '침', '이', '마르', '기', '도', '전', '에']\n"
     ]
    }
   ],
   "source": [
    "text = \"밤새도록 모니터에 튀긴 침이 마르기도 전에\"\n",
    "text_analyzed = rhinoMorph.onlyMorph_list(rn, text)\n",
    "\n",
    "print('1. 형태소 분석 결과: ', text_analyzed)"
   ]
  },
  {
   "cell_type": "markdown",
   "metadata": {},
   "source": [
    "## 사용 2 : 실질형태소만, 동사의 어말어미 제외"
   ]
  },
  {
   "cell_type": "code",
   "execution_count": 6,
   "metadata": {},
   "outputs": [
    {
     "name": "stdout",
     "output_type": "stream",
     "text": [
      "2. 형태소 분석 결과:  ['밤새', '모니터', '튀기', '침', '마르', '전']\n"
     ]
    }
   ],
   "source": [
    "text_analyzed = rhinoMorph.onlyMorph_list(rn, text, pos=['NNG', 'NNP', 'NP', 'VV', 'VA', 'XR', 'IC', 'MM', 'MAG', 'MAJ'])\n",
    "print('2. 형태소 분석 결과: ', text_analyzed)"
   ]
  },
  {
   "cell_type": "markdown",
   "metadata": {},
   "source": [
    "## 사용 3 : 실질형태소만, 동사의 어말어미 포함(= 동사, 형용사에 '다' 붙여주어 단어가 되게 함)"
   ]
  },
  {
   "cell_type": "code",
   "execution_count": 7,
   "metadata": {},
   "outputs": [
    {
     "name": "stdout",
     "output_type": "stream",
     "text": [
      "\n",
      "3. 형태소 분석 결과:  ['밤새다', '모니터', '튀기다', '침', '마르다', '전']\n"
     ]
    }
   ],
   "source": [
    "text_analyzed = rhinoMorph.onlyMorph_list(rn, text, pos=['NNG', 'NNP', 'NP', 'VV', 'VA', 'XR', 'IC', 'MM', 'MAG', 'MAJ'], eomi=True)\n",
    "print('\\n3. 형태소 분석 결과: ', text_analyzed)"
   ]
  },
  {
   "cell_type": "markdown",
   "metadata": {},
   "source": [
    "## 사용 4 : 전체형태소, 품사정보도 가져오기"
   ]
  },
  {
   "cell_type": "code",
   "execution_count": 8,
   "metadata": {},
   "outputs": [
    {
     "name": "stdout",
     "output_type": "stream",
     "text": [
      "4. 형태소 분석 결과: \n",
      "morphs:  ['밤새', '도록', '모니터', '에', '튀기', 'ㄴ', '침', '이', '마르', '기', '도', '전', '에']\n",
      "poses:  ['VV', 'EC', 'NNG', 'JKB', 'VV', 'ETM', 'NNG', 'JKS', 'VV', 'ETN', 'JX', 'MM', 'JKB']\n"
     ]
    }
   ],
   "source": [
    "morphs, poses = rhinoMorph.wholeResult_list(rn, text)\n",
    "print('4. 형태소 분석 결과: ')\n",
    "print('morphs: ', morphs)\n",
    "print('poses: ', poses)"
   ]
  },
  {
   "cell_type": "markdown",
   "metadata": {},
   "source": [
    "## 사용 5 : 원문의 어절 정보를 같이 가져오기"
   ]
  },
  {
   "cell_type": "code",
   "execution_count": 10,
   "metadata": {},
   "outputs": [
    {
     "name": "stdout",
     "output_type": "stream",
     "text": [
      "5. 형태소 분석 결과:\n",
      " 밤새도록\t밤새/VV + 도록/EC\r\n",
      "모니터에\t모니터/NNG + 에/JKB\r\n",
      "튀긴\t튀기/VV + ㄴ/ETM\r\n",
      "침이\t침/NNG + 이/JKS\r\n",
      "마르기도\t마르/VV + 기/ETN + 도/JX\r\n",
      "전에\t전/MM + 에/JKB\r\n",
      "\n"
     ]
    }
   ],
   "source": [
    "text_analyzed = rhinoMorph.wholeResult_text(rn, text)\n",
    "print('5. 형태소 분석 결과:\\n', text_analyzed)"
   ]
  },
  {
   "cell_type": "markdown",
   "metadata": {},
   "source": [
    "## 사용 6,7 : 한 어절에서 연결된 명사를 하나의 명사로 결합하기\n",
    "### onlyMorph_list와 wholeResult_list에서 사용 가능하다"
   ]
  },
  {
   "cell_type": "code",
   "execution_count": 12,
   "metadata": {},
   "outputs": [
    {
     "name": "stdout",
     "output_type": "stream",
     "text": [
      "6. 형태소 분석 결과: ['밤새', '모니터', '튀기', '침', '마르', '전']\n",
      "7. 형태소 분석 결과: \n",
      "morphs:  ['밤새', '도록', '모니터', '에', '튀기', 'ㄴ', '침', '이', '마르', '기', '도', '전', '에']\n",
      "poses:  ['VV', 'EC', 'NNG', 'JKB', 'VV', 'ETM', 'NNG', 'JKS', 'VV', 'ETN', 'JX', 'MM', 'JKB']\n"
     ]
    }
   ],
   "source": [
    "text_analyzed = rhinoMorph.onlyMorph_list(rn, text, pos=['NNG', 'NNP', 'NP', 'VV', 'VA', 'XR', 'IC', 'MM', 'MAG', 'MAJ'], combineN=True)\n",
    "print('6. 형태소 분석 결과:', text_analyzed)\n",
    "\n",
    "morphs, poses = rhinoMorph.wholeResult_list(rn, text, combineN=True)\n",
    "print('7. 형태소 분석 결과: ')\n",
    "print('morphs: ', morphs)\n",
    "print('poses: ', poses)"
   ]
  },
  {
   "cell_type": "markdown",
   "metadata": {},
   "source": [
    "## 사용 8, 9 : 어근 + 하 형태를 하나의 동사로 출력하기\n",
    "### xrVv 아규먼트가 담당하며, 기본값은 False로서 둘을 분리하여 출력한다\n",
    "### 분리된 어근이 명사인 경우, 명사로 출력된다\n",
    "### onlyMorph_list, wholeResult_list, wholeResult_text 등 모든 함수에서 사용 가능하다"
   ]
  },
  {
   "cell_type": "code",
   "execution_count": 13,
   "metadata": {},
   "outputs": [
    {
     "name": "stdout",
     "output_type": "stream",
     "text": [
      "\n",
      "8. 형태소 분석 결과:  (['사랑', '하', 'ㅂ니다'], ['XR', 'VX', 'EF'])\n",
      "\n",
      "9. 형태소 분석 결과:  (['사랑하', 'ㅂ니다'], ['VV', 'EF'])\n"
     ]
    }
   ],
   "source": [
    "text_analyzed = rhinoMorph.wholeResult_list(rn, '사랑합니다')\n",
    "print('\\n8. 형태소 분석 결과: ', text_analyzed)\n",
    "\n",
    "text_analyzed = rhinoMorph.wholeResult_list(rn, '사랑합니다', xrVv=True)\n",
    "print('\\n9. 형태소 분석 결과: ', text_analyzed)"
   ]
  },
  {
   "cell_type": "code",
   "execution_count": null,
   "metadata": {},
   "outputs": [],
   "source": []
  },
  {
   "cell_type": "code",
   "execution_count": null,
   "metadata": {},
   "outputs": [],
   "source": []
  }
 ],
 "metadata": {
  "kernelspec": {
   "display_name": "Python 3",
   "language": "python",
   "name": "python3"
  },
  "language_info": {
   "codemirror_mode": {
    "name": "ipython",
    "version": 3
   },
   "file_extension": ".py",
   "mimetype": "text/x-python",
   "name": "python",
   "nbconvert_exporter": "python",
   "pygments_lexer": "ipython3",
   "version": "3.5.4"
  }
 },
 "nbformat": 4,
 "nbformat_minor": 4
}
