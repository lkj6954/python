{
 "cells": [
  {
   "cell_type": "code",
   "execution_count": 1,
   "metadata": {},
   "outputs": [],
   "source": [
    "import pandas as pd"
   ]
  },
  {
   "cell_type": "code",
   "execution_count": 2,
   "metadata": {},
   "outputs": [
    {
     "data": {
      "text/plain": [
       "['P/Z O-RING', '소모품', 'MOTOR', 'PAPER BRSH', 'BITE']"
      ]
     },
     "execution_count": 2,
     "metadata": {},
     "output_type": "execute_result"
    }
   ],
   "source": [
    "# 수량이 20개 미만인 품목 출력\n",
    "\n",
    "import pandas as pd\n",
    "ex = pd.read_excel(\"C:\\py_temp\\sampleFile\\부품구입대장.xlsx\", usecols = 'c, d')\n",
    "ex1 = ex[3:].copy()\n",
    "\n",
    "listX = []\n",
    "for i in range(0,len(ex1.index)) :\n",
    "    if ex1.iloc[i, 1] < 20 :\n",
    "        listX.append(ex1.iloc[i, 0])\n",
    "listX"
   ]
  },
  {
   "cell_type": "code",
   "execution_count": null,
   "metadata": {},
   "outputs": [],
   "source": []
  }
 ],
 "metadata": {
  "kernelspec": {
   "display_name": "Python 3",
   "language": "python",
   "name": "python3"
  },
  "language_info": {
   "codemirror_mode": {
    "name": "ipython",
    "version": 3
   },
   "file_extension": ".py",
   "mimetype": "text/x-python",
   "name": "python",
   "nbconvert_exporter": "python",
   "pygments_lexer": "ipython3",
   "version": "3.5.4"
  }
 },
 "nbformat": 4,
 "nbformat_minor": 4
}
