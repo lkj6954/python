{
 "cells": [
  {
   "cell_type": "code",
   "execution_count": 8,
   "metadata": {},
   "outputs": [],
   "source": [
    "import urllib.parse\n",
    "url = 'https://python.bakyeono.net/data/movies.json'\n",
    "url_parts = urllib.parse.urlsplit(url)"
   ]
  },
  {
   "cell_type": "code",
   "execution_count": 12,
   "metadata": {},
   "outputs": [
    {
     "data": {
      "text/plain": [
       "SplitResult(scheme='https', netloc='python.bakyeono.net', path='/data/movies.json', query='', fragment='')"
      ]
     },
     "execution_count": 12,
     "metadata": {},
     "output_type": "execute_result"
    }
   ],
   "source": [
    "url_parts"
   ]
  },
  {
   "cell_type": "code",
   "execution_count": 13,
   "metadata": {},
   "outputs": [
    {
     "data": {
      "text/plain": [
       "'python.bakyeono.net'"
      ]
     },
     "execution_count": 13,
     "metadata": {},
     "output_type": "execute_result"
    }
   ],
   "source": []
  },
  {
   "cell_type": "code",
   "execution_count": 14,
   "metadata": {},
   "outputs": [
    {
     "data": {
      "text/plain": [
       "'https://python.bakyeono.net/chapter-11.html'"
      ]
     },
     "execution_count": 14,
     "metadata": {},
     "output_type": "execute_result"
    }
   ],
   "source": [
    "url_parts = list(url_parts)\n",
    "url_parts[2] = '/chapter-11.html'\n",
    "urllib.parse.urlunsplit(url_parts)"
   ]
  },
  {
   "cell_type": "code",
   "execution_count": 15,
   "metadata": {},
   "outputs": [
    {
     "data": {
      "text/plain": [
       "'%ED%8C%8C%EC%9D%B4%EC%8D%AC'"
      ]
     },
     "execution_count": 15,
     "metadata": {},
     "output_type": "execute_result"
    }
   ],
   "source": [
    "urllib.parse.quote('파이썬')"
   ]
  },
  {
   "cell_type": "markdown",
   "metadata": {},
   "source": [
    "### 네이버랩 API"
   ]
  },
  {
   "cell_type": "code",
   "execution_count": null,
   "metadata": {},
   "outputs": [],
   "source": [
    "import os\n",
    "import sys\n",
    "import urllib.request\n",
    "import json\n",
    "import time\n",
    "import pandas as pd\n",
    "\n",
    "client_id = \"rljYOVvvo9n6oI6WRU2d\"\n",
    "client_secret = \"LkoGP2WjTk\"\n",
    "\n",
    "url = \"https://openapi.naver.com/v1/datalab/search\"\n",
    "\n",
    "startDate = input('조회 시작 날짜 입력(예시:2000-01-01):')\n",
    "endDate = input('조회 종료 날짜 입력(예시:2000-01-01):')\n",
    "\n",
    "groupName = input('그룹 네임1:')\n",
    "keyword = input('키워드1:')\n",
    "\n",
    "soondae = input('그룹 네임2:')\n",
    "s_keyword = input('키워드2:')\n",
    "\n",
    "## https://developers.naver.com/docs/datalab/search/  네이버 api json 형식\n",
    "\n",
    "body = {\n",
    "    'startDate' : startDate,\n",
    "    'endDate' : endDate,\n",
    "    'timeUnit' : 'date',        # input : [date, week, month]\n",
    "    'keywordGroups' : [         \n",
    "        {\n",
    "            'groupName': groupName,\n",
    "            'keywords': [keyword]\n",
    "        },\n",
    "        {\n",
    "            'groupName':soondae,\n",
    "            'keywords' : [s_keyword]\n",
    "        }\n",
    "    ],\n",
    "}\n",
    "body = json.dumps(body)\n",
    "\n",
    "request = urllib.request.Request(url)\n",
    "\n",
    "request.add_header(\"X-Naver-Client-Id\",client_id)\n",
    "request.add_header(\"X-Naver-Client-Secret\",client_secret)\n",
    "request.add_header(\"Content-Type\",\"application/json\")\n",
    "response = urllib.request.urlopen(request, data=body.encode(\"utf-8\"))\n",
    "\n",
    "rescode = response.getcode()\n",
    "if(rescode==200):\n",
    "    response_body = response.read()\n",
    "    print(response_body.decode('utf-8'))\n",
    "else:\n",
    "    print(\"Error Code:\" + rescode)\n",
    "\n",
    "data = json.loads(response_body.decode('utf-8'))\n",
    "\n",
    "d_df = pd.DataFrame(data['results'][0]['data'])\n",
    "d_df.columns=['기간','돼지국밥']\n",
    "d_df.set_index('기간')\n",
    "\n",
    "s_df = pd.DataFrame(data['results'][1]['data'])\n",
    "s_df.columns=['기간','순대국']\n",
    "s_df.set_index('기간')\n",
    "\n",
    "df = d_df.merge(s_df, how='outer', on='기간').fillna(0)\n",
    "\n",
    "print(df)\n",
    "\n",
    "f_dir = \"C:\\\\Users\\\\dlals\\\\Desktop\\\\project_code\\\\\"\n",
    "\n",
    "# 저장될 파일위치와 이름을 지정합니다\n",
    "n = time.localtime()\n",
    "s = '%04d-%02d-%02d-%02d-%02d-%02d' % (n.tm_year, n.tm_mon, n.tm_mday, n.tm_hour, n.tm_min, n.tm_sec)\n",
    "\n",
    "os.makedirs(f_dir+s+'-'+'데이터랩')\n",
    "os.chdir(f_dir+s+'-'+'데이터랩')\n",
    "\n",
    "fc_name=f_dir+s+'-'+'데이터랩'+'\\\\'+s+'-'+'데이터랩'+'.csv'\n",
    "\n",
    "df.to_csv(fc_name,encoding=\"utf-8-sig\",index=False)"
   ]
  }
 ],
 "metadata": {
  "kernelspec": {
   "display_name": "Python 3",
   "language": "python",
   "name": "python3"
  },
  "language_info": {
   "codemirror_mode": {
    "name": "ipython",
    "version": 3
   },
   "file_extension": ".py",
   "mimetype": "text/x-python",
   "name": "python",
   "nbconvert_exporter": "python",
   "pygments_lexer": "ipython3",
   "version": "3.7.6"
  }
 },
 "nbformat": 4,
 "nbformat_minor": 4
}
